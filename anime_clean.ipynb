{
 "cells": [
  {
   "cell_type": "code",
   "execution_count": 31,
   "metadata": {},
   "outputs": [],
   "source": [
    "import pandas as pd\n",
    "\n",
    "# Load the dataset\n",
    "df = pd.read_csv('anime_dataset.csv')\n",
    "\n",
    "# Keep only the specified columns\n",
    "columns_to_keep = ['mal_id', 'title', 'synopsis', 'genres', 'themes']\n",
    "df = df[columns_to_keep]\n",
    "\n",
    "\n",
    "\n",
    "# Save the result to a new CSV file\n",
    "df.to_csv('anime_dataset_filtered.csv', index=False)"
   ]
  },
  {
   "cell_type": "code",
   "execution_count": 32,
   "metadata": {},
   "outputs": [
    {
     "name": "stdout",
     "output_type": "stream",
     "text": [
      "                                title                                           combined\n",
      "0                   Sousou no Frieren                          Adventure, Drama, Fantasy\n",
      "1    Fullmetal Alchemist: Brotherhood        Action, Adventure, Drama, Fantasy, Military\n",
      "2                         Steins;Gate  Drama, Sci-Fi, Suspense, Psychological, Time T...\n",
      "3  Shingeki no Kyojin Season 3 Part 2  Action, Drama, Suspense, Gore, Military, Survival\n",
      "4                            Gintama°  Action, Comedy, Sci-Fi, Gag Humor, Historical,...\n"
     ]
    }
   ],
   "source": [
    "# Combine genres, themes, and demographics into one column\n",
    "df['combined'] = df[['genres', 'themes']].fillna('').apply(lambda x: ', '.join(filter(None, x)), axis=1)\n",
    "\n",
    "# Remove the original genres, themes, and demographics columns\n",
    "df.drop(columns=['genres', 'themes'], inplace=True)\n",
    "\n",
    "# Display the first few rows to verify the result\n",
    "print(df[['title', 'combined']].head())"
   ]
  },
  {
   "cell_type": "code",
   "execution_count": 33,
   "metadata": {},
   "outputs": [
    {
     "data": {
      "application/vnd.microsoft.datawrangler.viewer.v0+json": {
       "columns": [
        {
         "name": "index",
         "rawType": "int64",
         "type": "integer"
        },
        {
         "name": "mal_id",
         "rawType": "int64",
         "type": "integer"
        },
        {
         "name": "title",
         "rawType": "object",
         "type": "string"
        },
        {
         "name": "synopsis",
         "rawType": "object",
         "type": "string"
        },
        {
         "name": "combined",
         "rawType": "object",
         "type": "string"
        }
       ],
       "conversionMethod": "pd.DataFrame",
       "ref": "5589e19d-e0b6-414b-a548-ee6bc6c67d9b",
       "rows": [
        [
         "0",
         "52991",
         "Sousou no Frieren",
         "During their decade-long quest to defeat the Demon King, the members of the hero's party—Himmel himself, the priest Heiter, the dwarf warrior Eisen, and the elven mage Frieren—forge bonds through adventures and battles, creating unforgettable precious memories for most of them.\n\nHowever, the time that Frieren spends with her comrades is equivalent to merely a fraction of her life, which has lasted over a thousand years. When the party disbands after their victory, Frieren casually returns to her \"usual\" routine of collecting spells across the continent. Due to her different sense of time, she seemingly holds no strong feelings toward the experiences she went through.\n\nAs the years pass, Frieren gradually realizes how her days in the hero's party truly impacted her. Witnessing the deaths of two of her former companions, Frieren begins to regret having taken their presence for granted; she vows to better understand humans and create real personal connections. Although the story of that once memorable journey has long ended, a new tale is about to begin.\n\n[Written by MAL Rewrite]",
         "Adventure, Drama, Fantasy"
        ],
        [
         "1",
         "5114",
         "Fullmetal Alchemist: Brotherhood",
         "After a horrific alchemy experiment goes wrong in the Elric household, brothers Edward and Alphonse are left in a catastrophic new reality. Ignoring the alchemical principle banning human transmutation, the boys attempted to bring their recently deceased mother back to life. Instead, they suffered brutal personal loss: Alphonse's body disintegrated while Edward lost a leg and then sacrificed an arm to keep Alphonse's soul in the physical realm by binding it to a hulking suit of armor.\n\nThe brothers are rescued by their neighbor Pinako Rockbell and her granddaughter Winry. Known as a bio-mechanical engineering prodigy, Winry creates prosthetic limbs for Edward by utilizing \"automail,\" a tough, versatile metal used in robots and combat armor. After years of training, the Elric brothers set off on a quest to restore their bodies by locating the Philosopher's Stone—a powerful gem that allows an alchemist to defy the traditional laws of Equivalent Exchange.\n\nAs Edward becomes an infamous alchemist and gains the nickname \"Fullmetal,\" the boys' journey embroils them in a growing conspiracy that threatens the fate of the world.\n\n[Written by MAL Rewrite]",
         "Action, Adventure, Drama, Fantasy, Military"
        ],
        [
         "2",
         "9253",
         "Steins;Gate",
         "Eccentric scientist Rintarou Okabe has a never-ending thirst for scientific exploration. Together with his ditzy but well-meaning friend Mayuri Shiina and his roommate Itaru Hashida, Okabe founds the Future Gadget Laboratory in the hopes of creating technological innovations that baffle the human psyche. Despite claims of grandeur, the only notable \"gadget\" the trio have created is a microwave that has the mystifying power to turn bananas into green goo.\n\nHowever, when Okabe attends a conference on time travel, he experiences a series of strange events that lead him to believe that there is more to the \"Phone Microwave\" gadget than meets the eye. Apparently able to send text messages into the past using the microwave, Okabe dabbles further with the \"time machine,\" attracting the ire and attention of the mysterious organization SERN.\n\nDue to the novel discovery, Okabe and his friends find themselves in an ever-present danger. As he works to mitigate the damage his invention has caused to the timeline, Okabe fights a battle to not only save his loved ones but also to preserve his degrading sanity.\n\n[Written by MAL Rewrite]",
         "Drama, Sci-Fi, Suspense, Psychological, Time Travel"
        ],
        [
         "3",
         "38524",
         "Shingeki no Kyojin Season 3 Part 2",
         "Seeking to restore humanity's diminishing hope, the Survey Corps embark on a mission to retake Wall Maria, where the battle against the merciless \"Titans\" takes the stage once again.\n\nReturning to the tattered Shiganshina District that was once his home, Eren Yeager and the Corps find the town oddly unoccupied by Titans. Even after the outer gate is plugged, they strangely encounter no opposition. The mission progresses smoothly until Armin Arlert, highly suspicious of the enemy's absence, discovers distressing signs of a potential scheme against them. \n\nShingeki no Kyojin Season 3 Part 2 follows Eren as he vows to take back everything that was once his. Alongside him, the Survey Corps strive—through countless sacrifices—to carve a path towards victory and uncover the secrets locked away in the Yeager family's basement.\n\n[Written by MAL Rewrite]",
         "Action, Drama, Suspense, Gore, Military, Survival"
        ],
        [
         "4",
         "28977",
         "Gintama°",
         "Gintoki, Shinpachi, and Kagura return as the fun-loving but broke members of the Yorozuya team! Living in an alternate-reality Edo, where swords are prohibited and alien overlords have conquered Japan, they try to thrive on doing whatever work they can get their hands on. However, Shinpachi and Kagura still haven't been paid... Does Gin-chan really spend all that cash playing pachinko?\n\nMeanwhile, when Gintoki drunkenly staggers home one night, an alien spaceship crashes nearby. A fatally injured crew member emerges from the ship and gives Gintoki a strange, clock-shaped device, warning him that it is incredibly powerful and must be safeguarded. Mistaking it for his alarm clock, Gintoki proceeds to smash the device the next morning and suddenly discovers that the world outside his apartment has come to a standstill. With Kagura and Shinpachi at his side, he sets off to get the device fixed; though, as usual, nothing is ever that simple for the Yorozuya team.\n\nFilled with tongue-in-cheek humor and moments of heartfelt emotion, Gintama's fourth season finds Gintoki and his friends facing both their most hilarious misadventures and most dangerous crises yet.\n\n[Written by MAL Rewrite]",
         "Action, Comedy, Sci-Fi, Gag Humor, Historical, Parody, Samurai"
        ]
       ],
       "shape": {
        "columns": 4,
        "rows": 5
       }
      },
      "text/html": [
       "<div>\n",
       "<style scoped>\n",
       "    .dataframe tbody tr th:only-of-type {\n",
       "        vertical-align: middle;\n",
       "    }\n",
       "\n",
       "    .dataframe tbody tr th {\n",
       "        vertical-align: top;\n",
       "    }\n",
       "\n",
       "    .dataframe thead th {\n",
       "        text-align: right;\n",
       "    }\n",
       "</style>\n",
       "<table border=\"1\" class=\"dataframe\">\n",
       "  <thead>\n",
       "    <tr style=\"text-align: right;\">\n",
       "      <th></th>\n",
       "      <th>mal_id</th>\n",
       "      <th>title</th>\n",
       "      <th>synopsis</th>\n",
       "      <th>combined</th>\n",
       "    </tr>\n",
       "  </thead>\n",
       "  <tbody>\n",
       "    <tr>\n",
       "      <th>0</th>\n",
       "      <td>52991</td>\n",
       "      <td>Sousou no Frieren</td>\n",
       "      <td>During their decade-long quest to defeat the D...</td>\n",
       "      <td>Adventure, Drama, Fantasy</td>\n",
       "    </tr>\n",
       "    <tr>\n",
       "      <th>1</th>\n",
       "      <td>5114</td>\n",
       "      <td>Fullmetal Alchemist: Brotherhood</td>\n",
       "      <td>After a horrific alchemy experiment goes wrong...</td>\n",
       "      <td>Action, Adventure, Drama, Fantasy, Military</td>\n",
       "    </tr>\n",
       "    <tr>\n",
       "      <th>2</th>\n",
       "      <td>9253</td>\n",
       "      <td>Steins;Gate</td>\n",
       "      <td>Eccentric scientist Rintarou Okabe has a never...</td>\n",
       "      <td>Drama, Sci-Fi, Suspense, Psychological, Time T...</td>\n",
       "    </tr>\n",
       "    <tr>\n",
       "      <th>3</th>\n",
       "      <td>38524</td>\n",
       "      <td>Shingeki no Kyojin Season 3 Part 2</td>\n",
       "      <td>Seeking to restore humanity's diminishing hope...</td>\n",
       "      <td>Action, Drama, Suspense, Gore, Military, Survival</td>\n",
       "    </tr>\n",
       "    <tr>\n",
       "      <th>4</th>\n",
       "      <td>28977</td>\n",
       "      <td>Gintama°</td>\n",
       "      <td>Gintoki, Shinpachi, and Kagura return as the f...</td>\n",
       "      <td>Action, Comedy, Sci-Fi, Gag Humor, Historical,...</td>\n",
       "    </tr>\n",
       "  </tbody>\n",
       "</table>\n",
       "</div>"
      ],
      "text/plain": [
       "   mal_id                               title                                           synopsis                                           combined\n",
       "0   52991                   Sousou no Frieren  During their decade-long quest to defeat the D...                          Adventure, Drama, Fantasy\n",
       "1    5114    Fullmetal Alchemist: Brotherhood  After a horrific alchemy experiment goes wrong...        Action, Adventure, Drama, Fantasy, Military\n",
       "2    9253                         Steins;Gate  Eccentric scientist Rintarou Okabe has a never...  Drama, Sci-Fi, Suspense, Psychological, Time T...\n",
       "3   38524  Shingeki no Kyojin Season 3 Part 2  Seeking to restore humanity's diminishing hope...  Action, Drama, Suspense, Gore, Military, Survival\n",
       "4   28977                            Gintama°  Gintoki, Shinpachi, and Kagura return as the f...  Action, Comedy, Sci-Fi, Gag Humor, Historical,..."
      ]
     },
     "execution_count": 33,
     "metadata": {},
     "output_type": "execute_result"
    }
   ],
   "source": [
    "df.to_csv('anime_dataset_filtered_2.csv', index=False)\n",
    "df.head()"
   ]
  },
  {
   "cell_type": "code",
   "execution_count": 34,
   "metadata": {},
   "outputs": [
    {
     "name": "stdout",
     "output_type": "stream",
     "text": [
      "Missing values in each column:\n",
      " mal_id         0\n",
      "title          0\n",
      "synopsis    4716\n",
      "combined       0\n",
      "dtype: int64\n",
      "Rows with missing values:\n",
      "      mal_id                                              title synopsis                                           combined\n",
      "751   58143                          Aishang Ta de Liyou Extra      NaN                                Romance, Adult Cast\n",
      "779   53499     Aikatsu! 10th Story: Mirai e no Starway (2023)      NaN                              Idols (Female), Music\n",
      "860   57183                        Wu Dong Qian Kun 4th Season      NaN  Action, Adventure, Fantasy, Historical, Martia...\n",
      "879   59939                 Tunshi Xingkong Movie: Xueluo Dalu      NaN   Action, Adventure, Fantasy, Sci-Fi, Martial Arts\n",
      "987   55993  Fanren Xiu Xian Chuan: Xinghai Feichi Pian Xuz...      NaN  Action, Adventure, Fantasy, Historical, Martia...\n",
      "Number of rows after removing missing synopsis: 16847\n"
     ]
    }
   ],
   "source": [
    "# Check for missing values in each column\n",
    "missing_values = df.isnull().sum()\n",
    "print(\"Missing values in each column:\\n\", missing_values)\n",
    "\n",
    "# List the number of rows with missing values\n",
    "rows_with_missing_values = df.isnull().any(axis=1).sum()\n",
    "\n",
    "# List 5 rows with missing values\n",
    "rows_with_missing_values_list = df[df.isnull().any(axis=1)].head(5)\n",
    "print(\"Rows with missing values:\\n\", rows_with_missing_values_list)\n",
    "# Remove rows with no synopsis\n",
    "df.dropna(subset=['synopsis'], inplace=True)\n",
    "\n",
    "# Verify the result\n",
    "print(\"Number of rows after removing missing synopsis:\", len(df))"
   ]
  },
  {
   "cell_type": "code",
   "execution_count": 35,
   "metadata": {},
   "outputs": [],
   "source": [
    "df.to_csv('anime_dataset_filtered_3.csv', index=False)"
   ]
  },
  {
   "cell_type": "code",
   "execution_count": 36,
   "metadata": {},
   "outputs": [
    {
     "data": {
      "text/plain": [
       "12650"
      ]
     },
     "execution_count": 36,
     "metadata": {},
     "output_type": "execute_result"
    }
   ],
   "source": [
    "import pandas as pd\n",
    "\n",
    "# Define a function to determine if a synopsis is too short or uninformative\n",
    "def is_informative(synopsis, min_length=20):\n",
    "    return len(synopsis.split()) >= min_length\n",
    "\n",
    "# Apply the function to filter out uninformative synopses\n",
    "df = df[df['synopsis'].apply(is_informative)]\n",
    "\n",
    "# Reset index after filtering\n",
    "df.reset_index(drop=True, inplace=True)\n",
    "len(df)"
   ]
  },
  {
   "cell_type": "code",
   "execution_count": 37,
   "metadata": {},
   "outputs": [],
   "source": [
    "\n",
    "# List of keywords to search for\n",
    "keywords = ['special', 'OVA', 'season', 'sequel', 'DVD', 'volume', 'movie', 'additional', 'recap', 'prequel', 'prologue', 'epilogue','film']\n",
    "\n",
    "# Create a regex pattern to match any of the keywords\n",
    "pattern = '|'.join(keywords)\n",
    "\n",
    "# Filter rows where the synopsis contains any of the keywords (case-insensitive)\n",
    "filtered_df = df[df['synopsis'].str.contains(pattern, case=False, na=False)]\n",
    "\n",
    "# Sort the filtered DataFrame by the length of the synopsis in ascending order\n",
    "filtered_df = filtered_df.assign(synopsis_length=filtered_df['synopsis'].str.len())\n",
    "filtered_df = filtered_df.sort_values(by='synopsis_length', ascending=True).drop(columns='synopsis_length')\n",
    "\n",
    "# Reset index for the filtered DataFrame\n",
    "filtered_df.reset_index(drop=True, inplace=True)\n"
   ]
  },
  {
   "cell_type": "code",
   "execution_count": 38,
   "metadata": {},
   "outputs": [
    {
     "data": {
      "application/vnd.microsoft.datawrangler.viewer.v0+json": {
       "columns": [
        {
         "name": "index",
         "rawType": "int64",
         "type": "integer"
        },
        {
         "name": "mal_id",
         "rawType": "int64",
         "type": "integer"
        },
        {
         "name": "title",
         "rawType": "object",
         "type": "string"
        },
        {
         "name": "synopsis",
         "rawType": "object",
         "type": "string"
        },
        {
         "name": "combined",
         "rawType": "object",
         "type": "string"
        }
       ],
       "conversionMethod": "pd.DataFrame",
       "ref": "df5a00e5-06b4-4efd-8fbd-e866053c768f",
       "rows": [
        [
         "0",
         "27455",
         "Porong Porong Pororo 3",
         "A direct continuation of the second season. This time there are aliens and a robot friend that hangs out with the gang.",
         "Sci-Fi"
        ],
        [
         "1",
         "7482",
         "Yume kara, Samenai",
         "Student Takao is inexorably drawn toward Sao despite class rumors that she has appeared in a porno movie.\n\n(Source: AniDB)",
         "Romance, School"
        ],
        [
         "2",
         "5648",
         "Bouken Shite mo Ii Koro",
         "Follow a cast that makes pornographic movies. The loves and loyalty it creates and the friction it causes.\n\n(Source: AniDB)",
         "Comedy, Romance, Ecchi, Adult Cast, Showbiz"
        ],
        [
         "3",
         "27457",
         "Porong Porong Pororo 4",
         "A direct continuation of the previous season where an anthropomorphic car gets separated from his home and arrive in Pororo's village and beings to live there.",
         "Racing"
        ],
        [
         "4",
         "5925",
         "Neko Hiki no Oruorane",
         "During the holiday season, a young man encounters a drunken cat belonging to an old man in an alley. The old man has trained his three cats to sing.\n\n(Source: ANN)",
         "Fantasy, Music, Pets"
        ]
       ],
       "shape": {
        "columns": 4,
        "rows": 5
       }
      },
      "text/html": [
       "<div>\n",
       "<style scoped>\n",
       "    .dataframe tbody tr th:only-of-type {\n",
       "        vertical-align: middle;\n",
       "    }\n",
       "\n",
       "    .dataframe tbody tr th {\n",
       "        vertical-align: top;\n",
       "    }\n",
       "\n",
       "    .dataframe thead th {\n",
       "        text-align: right;\n",
       "    }\n",
       "</style>\n",
       "<table border=\"1\" class=\"dataframe\">\n",
       "  <thead>\n",
       "    <tr style=\"text-align: right;\">\n",
       "      <th></th>\n",
       "      <th>mal_id</th>\n",
       "      <th>title</th>\n",
       "      <th>synopsis</th>\n",
       "      <th>combined</th>\n",
       "    </tr>\n",
       "  </thead>\n",
       "  <tbody>\n",
       "    <tr>\n",
       "      <th>0</th>\n",
       "      <td>27455</td>\n",
       "      <td>Porong Porong Pororo 3</td>\n",
       "      <td>A direct continuation of the second season. Th...</td>\n",
       "      <td>Sci-Fi</td>\n",
       "    </tr>\n",
       "    <tr>\n",
       "      <th>1</th>\n",
       "      <td>7482</td>\n",
       "      <td>Yume kara, Samenai</td>\n",
       "      <td>Student Takao is inexorably drawn toward Sao d...</td>\n",
       "      <td>Romance, School</td>\n",
       "    </tr>\n",
       "    <tr>\n",
       "      <th>2</th>\n",
       "      <td>5648</td>\n",
       "      <td>Bouken Shite mo Ii Koro</td>\n",
       "      <td>Follow a cast that makes pornographic movies. ...</td>\n",
       "      <td>Comedy, Romance, Ecchi, Adult Cast, Showbiz</td>\n",
       "    </tr>\n",
       "    <tr>\n",
       "      <th>3</th>\n",
       "      <td>27457</td>\n",
       "      <td>Porong Porong Pororo 4</td>\n",
       "      <td>A direct continuation of the previous season w...</td>\n",
       "      <td>Racing</td>\n",
       "    </tr>\n",
       "    <tr>\n",
       "      <th>4</th>\n",
       "      <td>5925</td>\n",
       "      <td>Neko Hiki no Oruorane</td>\n",
       "      <td>During the holiday season, a young man encount...</td>\n",
       "      <td>Fantasy, Music, Pets</td>\n",
       "    </tr>\n",
       "  </tbody>\n",
       "</table>\n",
       "</div>"
      ],
      "text/plain": [
       "   mal_id                    title                                           synopsis                                     combined\n",
       "0   27455   Porong Porong Pororo 3  A direct continuation of the second season. Th...                                       Sci-Fi\n",
       "1    7482       Yume kara, Samenai  Student Takao is inexorably drawn toward Sao d...                              Romance, School\n",
       "2    5648  Bouken Shite mo Ii Koro  Follow a cast that makes pornographic movies. ...  Comedy, Romance, Ecchi, Adult Cast, Showbiz\n",
       "3   27457   Porong Porong Pororo 4  A direct continuation of the previous season w...                                       Racing\n",
       "4    5925    Neko Hiki no Oruorane  During the holiday season, a young man encount...                         Fantasy, Music, Pets"
      ]
     },
     "execution_count": 38,
     "metadata": {},
     "output_type": "execute_result"
    }
   ],
   "source": [
    "\n",
    "# Define the lists of mal_id values\n",
    "keep_first_1000 = {7482, 5648, 27455, 27457, 5925, 16780, 5308, 42296, 10074, 23523, 33176, 58491, \n",
    "                   55355, 59722, 53102, 4398, 7547, 30447, 4693, 5080, 34667, 32494, 35616, 51248, \n",
    "                   42268, 8670, 60485, 31866, 6380, 43556, 38004, 23637, 57388, 26101, 557, 52553, \n",
    "                   29910, 9749, 5096, 30437, 22613, 15883, 5279, 3362, 6713, 2214, 2583, 18429, 1289, \n",
    "                   57207, 35409, 51563, 2723, 5620, 13505, 3661, 1314, 40885, 7643, 1031, 5098, 16574, \n",
    "                   1938, 1158, 2699, 21101, 1003, 34289, 1772, 17823, 19985, 1078, 8547, 34550, 810, \n",
    "                   3077, 18177, 3640, 1155, 35320, 45654, 7575, 4073, 3900, 51782, 11299, 53045, \n",
    "                   45596, 30278, 34915, 15937, 1839, 39360, 42899, 675, 3624, 13409, 2948, 10790, \n",
    "                   2110, 16556, 8812, 760, 21957, 6023, 2969, 1988, 38117, 51125, 34834, 3247, 4418, \n",
    "                   4383, 20499, 31670, 33490, 28869}\n",
    "\n",
    "remove_after_1000 = {6489, 34258, 41822, 24527, 52003, 20649, 3671, 1933, 42174, 5755, 5458, 37753, \n",
    "                     39416, 32026, 1112, 32376, 33148, 25305, 10979, 31678, 38739, 5036, 4094, 38895, \n",
    "                     39762, 26189, 5501, 21195, 35317, 30796, 30818, 5396}\n",
    "\n",
    "# Split the DataFrame into the first 1000 rows and the rest\n",
    "df_first_1000 = filtered_df.iloc[:1000]\n",
    "df_rest = filtered_df.iloc[1000:]\n",
    "\n",
    "# Filter the first 1000 rows to keep only the specified mal_id values\n",
    "df_first_1000 = df_first_1000[df_first_1000['mal_id'].isin(keep_first_1000)]\n",
    "\n",
    "# Filter the rest to remove the specified mal_id values\n",
    "df_rest = df_rest[~df_rest['mal_id'].isin(remove_after_1000)]\n",
    "\n",
    "# Concatenate both filtered DataFrames\n",
    "df_filtered = pd.concat([df_first_1000, df_rest], ignore_index=True)\n",
    "\n",
    "# Reset index for cleanliness\n",
    "df_filtered.reset_index(drop=True, inplace=True)\n",
    "\n",
    "# Display the new DataFrame\n",
    "df_filtered.head()\n"
   ]
  },
  {
   "cell_type": "code",
   "execution_count": 39,
   "metadata": {},
   "outputs": [
    {
     "data": {
      "application/vnd.microsoft.datawrangler.viewer.v0+json": {
       "columns": [
        {
         "name": "index",
         "rawType": "int64",
         "type": "integer"
        },
        {
         "name": "mal_id",
         "rawType": "int64",
         "type": "integer"
        },
        {
         "name": "title",
         "rawType": "object",
         "type": "string"
        },
        {
         "name": "synopsis",
         "rawType": "object",
         "type": "string"
        },
        {
         "name": "combined",
         "rawType": "object",
         "type": "string"
        }
       ],
       "conversionMethod": "pd.DataFrame",
       "ref": "3e095fb9-19f2-4dde-8574-0b10e835cd7e",
       "rows": [
        [
         "0",
         "52991",
         "Sousou no Frieren",
         "During their decade-long quest to defeat the Demon King, the members of the hero's party—Himmel himself, the priest Heiter, the dwarf warrior Eisen, and the elven mage Frieren—forge bonds through adventures and battles, creating unforgettable precious memories for most of them.\n\nHowever, the time that Frieren spends with her comrades is equivalent to merely a fraction of her life, which has lasted over a thousand years. When the party disbands after their victory, Frieren casually returns to her \"usual\" routine of collecting spells across the continent. Due to her different sense of time, she seemingly holds no strong feelings toward the experiences she went through.\n\nAs the years pass, Frieren gradually realizes how her days in the hero's party truly impacted her. Witnessing the deaths of two of her former companions, Frieren begins to regret having taken their presence for granted; she vows to better understand humans and create real personal connections. Although the story of that once memorable journey has long ended, a new tale is about to begin.\n\n[Written by MAL Rewrite]",
         "Adventure, Drama, Fantasy"
        ],
        [
         "1",
         "5114",
         "Fullmetal Alchemist: Brotherhood",
         "After a horrific alchemy experiment goes wrong in the Elric household, brothers Edward and Alphonse are left in a catastrophic new reality. Ignoring the alchemical principle banning human transmutation, the boys attempted to bring their recently deceased mother back to life. Instead, they suffered brutal personal loss: Alphonse's body disintegrated while Edward lost a leg and then sacrificed an arm to keep Alphonse's soul in the physical realm by binding it to a hulking suit of armor.\n\nThe brothers are rescued by their neighbor Pinako Rockbell and her granddaughter Winry. Known as a bio-mechanical engineering prodigy, Winry creates prosthetic limbs for Edward by utilizing \"automail,\" a tough, versatile metal used in robots and combat armor. After years of training, the Elric brothers set off on a quest to restore their bodies by locating the Philosopher's Stone—a powerful gem that allows an alchemist to defy the traditional laws of Equivalent Exchange.\n\nAs Edward becomes an infamous alchemist and gains the nickname \"Fullmetal,\" the boys' journey embroils them in a growing conspiracy that threatens the fate of the world.\n\n[Written by MAL Rewrite]",
         "Action, Adventure, Drama, Fantasy, Military"
        ],
        [
         "2",
         "39486",
         "Gintama: The Final",
         "Two years have passed following the Tendoshuu's invasion of the O-Edo Central Terminal. Since then, the Yorozuya have gone their separate ways. Foreseeing Utsuro's return, Gintoki Sakata begins surveying Earth's ley lines for traces of the other man's Altana. After an encounter with the remnants of the Tendoshuu—who continue to press on in search of immortality—Gintoki returns to Edo.\n\nLater, the regrouped Shinsengumi and Yorozuya begin an attack on the occupied Central Terminal. With the Altana harvested by the wreckage of the Tendoshuu's ship in danger of detonating, the Yorozuya and their allies fight their enemies while the safety of Edo—and the rest of the world—hangs in the balance. Fulfilling the wishes of their teacher, Shouyou Yoshida's former students unite and relive their pasts one final time in an attempt to save their futures.\n\n[Written by MAL Rewrite]",
         "Action, Comedy, Drama, Sci-Fi, Gag Humor, Historical, Parody, Samurai"
        ],
        [
         "3",
         "11061",
         "Hunter x Hunter (2011)",
         "Hunters devote themselves to accomplishing hazardous tasks, all from traversing the world's uncharted territories to locating rare items and monsters. Before becoming a Hunter, one must pass the Hunter Examination—a high-risk selection process in which most applicants end up handicapped or worse, deceased.\n\nAmbitious participants who challenge the notorious exam carry their own reason. What drives 12-year-old Gon Freecss is finding Ging, his father and a Hunter himself. Believing that he will meet his father by becoming a Hunter, Gon takes the first step to walk the same path.\n\nDuring the Hunter Examination, Gon befriends the medical student Leorio Paladiknight, the vindictive Kurapika, and ex-assassin Killua Zoldyck. While their motives vastly differ from each other, they band together for a common goal and begin to venture into a perilous world.\n\n[Written by MAL Rewrite]",
         "Action, Adventure, Fantasy"
        ],
        [
         "4",
         "9969",
         "Gintama'",
         "After a one-year hiatus, Shinpachi Shimura returns to Edo, only to stumble upon a shocking surprise: Gintoki and Kagura, his fellow Yorozuya members, have become completely different characters! Fleeing from the Yorozuya headquarters in confusion, Shinpachi finds that all the denizens of Edo have undergone impossibly extreme changes, in both appearance and personality. Most unbelievably, his sister Otae has married the Shinsengumi chief and shameless stalker Isao Kondou and is pregnant with their first child.\n\nBewildered, Shinpachi agrees to join the Shinsengumi at Otae and Kondou's request and finds even more startling transformations afoot both in and out of the ranks of the the organization. However, discovering that Vice Chief Toushirou Hijikata has remained unchanged, Shinpachi and his unlikely Shinsengumi ally set out to return the city of Edo to how they remember it.\n\nWith even more dirty jokes, tongue-in-cheek parodies, and shameless references, Gintama' follows the Yorozuya team through more of their misadventures in the vibrant, alien-filled world of Edo.\n\n[Written by MAL Rewrite]",
         "Action, Comedy, Sci-Fi, Gag Humor, Historical, Parody, Samurai"
        ]
       ],
       "shape": {
        "columns": 4,
        "rows": 5
       }
      },
      "text/html": [
       "<div>\n",
       "<style scoped>\n",
       "    .dataframe tbody tr th:only-of-type {\n",
       "        vertical-align: middle;\n",
       "    }\n",
       "\n",
       "    .dataframe tbody tr th {\n",
       "        vertical-align: top;\n",
       "    }\n",
       "\n",
       "    .dataframe thead th {\n",
       "        text-align: right;\n",
       "    }\n",
       "</style>\n",
       "<table border=\"1\" class=\"dataframe\">\n",
       "  <thead>\n",
       "    <tr style=\"text-align: right;\">\n",
       "      <th></th>\n",
       "      <th>mal_id</th>\n",
       "      <th>title</th>\n",
       "      <th>synopsis</th>\n",
       "      <th>combined</th>\n",
       "    </tr>\n",
       "  </thead>\n",
       "  <tbody>\n",
       "    <tr>\n",
       "      <th>0</th>\n",
       "      <td>52991</td>\n",
       "      <td>Sousou no Frieren</td>\n",
       "      <td>During their decade-long quest to defeat the D...</td>\n",
       "      <td>Adventure, Drama, Fantasy</td>\n",
       "    </tr>\n",
       "    <tr>\n",
       "      <th>1</th>\n",
       "      <td>5114</td>\n",
       "      <td>Fullmetal Alchemist: Brotherhood</td>\n",
       "      <td>After a horrific alchemy experiment goes wrong...</td>\n",
       "      <td>Action, Adventure, Drama, Fantasy, Military</td>\n",
       "    </tr>\n",
       "    <tr>\n",
       "      <th>2</th>\n",
       "      <td>39486</td>\n",
       "      <td>Gintama: The Final</td>\n",
       "      <td>Two years have passed following the Tendoshuu'...</td>\n",
       "      <td>Action, Comedy, Drama, Sci-Fi, Gag Humor, Hist...</td>\n",
       "    </tr>\n",
       "    <tr>\n",
       "      <th>3</th>\n",
       "      <td>11061</td>\n",
       "      <td>Hunter x Hunter (2011)</td>\n",
       "      <td>Hunters devote themselves to accomplishing haz...</td>\n",
       "      <td>Action, Adventure, Fantasy</td>\n",
       "    </tr>\n",
       "    <tr>\n",
       "      <th>4</th>\n",
       "      <td>9969</td>\n",
       "      <td>Gintama'</td>\n",
       "      <td>After a one-year hiatus, Shinpachi Shimura ret...</td>\n",
       "      <td>Action, Comedy, Sci-Fi, Gag Humor, Historical,...</td>\n",
       "    </tr>\n",
       "  </tbody>\n",
       "</table>\n",
       "</div>"
      ],
      "text/plain": [
       "   mal_id                             title                                           synopsis                                           combined\n",
       "0   52991                 Sousou no Frieren  During their decade-long quest to defeat the D...                          Adventure, Drama, Fantasy\n",
       "1    5114  Fullmetal Alchemist: Brotherhood  After a horrific alchemy experiment goes wrong...        Action, Adventure, Drama, Fantasy, Military\n",
       "2   39486                Gintama: The Final  Two years have passed following the Tendoshuu'...  Action, Comedy, Drama, Sci-Fi, Gag Humor, Hist...\n",
       "3   11061            Hunter x Hunter (2011)  Hunters devote themselves to accomplishing haz...                         Action, Adventure, Fantasy\n",
       "4    9969                          Gintama'  After a one-year hiatus, Shinpachi Shimura ret...  Action, Comedy, Sci-Fi, Gag Humor, Historical,..."
      ]
     },
     "execution_count": 39,
     "metadata": {},
     "output_type": "execute_result"
    }
   ],
   "source": [
    "# Remove rows of filtered_df from df based on mal_id\n",
    "df = df[~df['mal_id'].isin(filtered_df['mal_id'])]\n",
    "\n",
    "# Add the rows of df_filtered to df\n",
    "df = pd.concat([df, df_filtered], ignore_index=True)\n",
    "\n",
    "# Reset index for cleanliness\n",
    "df.reset_index(drop=True, inplace=True)\n",
    "\n",
    "# Display the updated DataFrame\n",
    "df.head()"
   ]
  },
  {
   "cell_type": "code",
   "execution_count": 40,
   "metadata": {},
   "outputs": [
    {
     "data": {
      "application/vnd.microsoft.datawrangler.viewer.v0+json": {
       "columns": [
        {
         "name": "index",
         "rawType": "int64",
         "type": "integer"
        },
        {
         "name": "mal_id",
         "rawType": "int64",
         "type": "integer"
        },
        {
         "name": "title",
         "rawType": "object",
         "type": "string"
        },
        {
         "name": "synopsis",
         "rawType": "object",
         "type": "string"
        },
        {
         "name": "combined",
         "rawType": "object",
         "type": "string"
        }
       ],
       "conversionMethod": "pd.DataFrame",
       "ref": "b738b363-4b24-459b-9eb8-0e63cc7ad30c",
       "rows": [
        [
         "0",
         "52991",
         "Sousou no Frieren",
         "During their decade-long quest to defeat the Demon King, the members of the hero's party—Himmel himself, the priest Heiter, the dwarf warrior Eisen, and the elven mage Frieren—forge bonds through adventures and battles, creating unforgettable precious memories for most of them.\n\nHowever, the time that Frieren spends with her comrades is equivalent to merely a fraction of her life, which has lasted over a thousand years. When the party disbands after their victory, Frieren casually returns to her \"usual\" routine of collecting spells across the continent. Due to her different sense of time, she seemingly holds no strong feelings toward the experiences she went through.\n\nAs the years pass, Frieren gradually realizes how her days in the hero's party truly impacted her. Witnessing the deaths of two of her former companions, Frieren begins to regret having taken their presence for granted; she vows to better understand humans and create real personal connections. Although the story of that once memorable journey has long ended, a new tale is about to begin.",
         "Adventure, Drama, Fantasy"
        ],
        [
         "1",
         "5114",
         "Fullmetal Alchemist: Brotherhood",
         "After a horrific alchemy experiment goes wrong in the Elric household, brothers Edward and Alphonse are left in a catastrophic new reality. Ignoring the alchemical principle banning human transmutation, the boys attempted to bring their recently deceased mother back to life. Instead, they suffered brutal personal loss: Alphonse's body disintegrated while Edward lost a leg and then sacrificed an arm to keep Alphonse's soul in the physical realm by binding it to a hulking suit of armor.\n\nThe brothers are rescued by their neighbor Pinako Rockbell and her granddaughter Winry. Known as a bio-mechanical engineering prodigy, Winry creates prosthetic limbs for Edward by utilizing \"automail,\" a tough, versatile metal used in robots and combat armor. After years of training, the Elric brothers set off on a quest to restore their bodies by locating the Philosopher's Stone—a powerful gem that allows an alchemist to defy the traditional laws of Equivalent Exchange.\n\nAs Edward becomes an infamous alchemist and gains the nickname \"Fullmetal,\" the boys' journey embroils them in a growing conspiracy that threatens the fate of the world.",
         "Action, Adventure, Drama, Fantasy, Military"
        ],
        [
         "2",
         "39486",
         "Gintama: The Final",
         "Two years have passed following the Tendoshuu's invasion of the O-Edo Central Terminal. Since then, the Yorozuya have gone their separate ways. Foreseeing Utsuro's return, Gintoki Sakata begins surveying Earth's ley lines for traces of the other man's Altana. After an encounter with the remnants of the Tendoshuu—who continue to press on in search of immortality—Gintoki returns to Edo.\n\nLater, the regrouped Shinsengumi and Yorozuya begin an attack on the occupied Central Terminal. With the Altana harvested by the wreckage of the Tendoshuu's ship in danger of detonating, the Yorozuya and their allies fight their enemies while the safety of Edo—and the rest of the world—hangs in the balance. Fulfilling the wishes of their teacher, Shouyou Yoshida's former students unite and relive their pasts one final time in an attempt to save their futures.",
         "Action, Comedy, Drama, Sci-Fi, Gag Humor, Historical, Parody, Samurai"
        ],
        [
         "3",
         "11061",
         "Hunter x Hunter (2011)",
         "Hunters devote themselves to accomplishing hazardous tasks, all from traversing the world's uncharted territories to locating rare items and monsters. Before becoming a Hunter, one must pass the Hunter Examination—a high-risk selection process in which most applicants end up handicapped or worse, deceased.\n\nAmbitious participants who challenge the notorious exam carry their own reason. What drives 12-year-old Gon Freecss is finding Ging, his father and a Hunter himself. Believing that he will meet his father by becoming a Hunter, Gon takes the first step to walk the same path.\n\nDuring the Hunter Examination, Gon befriends the medical student Leorio Paladiknight, the vindictive Kurapika, and ex-assassin Killua Zoldyck. While their motives vastly differ from each other, they band together for a common goal and begin to venture into a perilous world.",
         "Action, Adventure, Fantasy"
        ],
        [
         "4",
         "9969",
         "Gintama'",
         "After a one-year hiatus, Shinpachi Shimura returns to Edo, only to stumble upon a shocking surprise: Gintoki and Kagura, his fellow Yorozuya members, have become completely different characters! Fleeing from the Yorozuya headquarters in confusion, Shinpachi finds that all the denizens of Edo have undergone impossibly extreme changes, in both appearance and personality. Most unbelievably, his sister Otae has married the Shinsengumi chief and shameless stalker Isao Kondou and is pregnant with their first child.\n\nBewildered, Shinpachi agrees to join the Shinsengumi at Otae and Kondou's request and finds even more startling transformations afoot both in and out of the ranks of the the organization. However, discovering that Vice Chief Toushirou Hijikata has remained unchanged, Shinpachi and his unlikely Shinsengumi ally set out to return the city of Edo to how they remember it.\n\nWith even more dirty jokes, tongue-in-cheek parodies, and shameless references, Gintama' follows the Yorozuya team through more of their misadventures in the vibrant, alien-filled world of Edo.",
         "Action, Comedy, Sci-Fi, Gag Humor, Historical, Parody, Samurai"
        ]
       ],
       "shape": {
        "columns": 4,
        "rows": 5
       }
      },
      "text/html": [
       "<div>\n",
       "<style scoped>\n",
       "    .dataframe tbody tr th:only-of-type {\n",
       "        vertical-align: middle;\n",
       "    }\n",
       "\n",
       "    .dataframe tbody tr th {\n",
       "        vertical-align: top;\n",
       "    }\n",
       "\n",
       "    .dataframe thead th {\n",
       "        text-align: right;\n",
       "    }\n",
       "</style>\n",
       "<table border=\"1\" class=\"dataframe\">\n",
       "  <thead>\n",
       "    <tr style=\"text-align: right;\">\n",
       "      <th></th>\n",
       "      <th>mal_id</th>\n",
       "      <th>title</th>\n",
       "      <th>synopsis</th>\n",
       "      <th>combined</th>\n",
       "    </tr>\n",
       "  </thead>\n",
       "  <tbody>\n",
       "    <tr>\n",
       "      <th>0</th>\n",
       "      <td>52991</td>\n",
       "      <td>Sousou no Frieren</td>\n",
       "      <td>During their decade-long quest to defeat the D...</td>\n",
       "      <td>Adventure, Drama, Fantasy</td>\n",
       "    </tr>\n",
       "    <tr>\n",
       "      <th>1</th>\n",
       "      <td>5114</td>\n",
       "      <td>Fullmetal Alchemist: Brotherhood</td>\n",
       "      <td>After a horrific alchemy experiment goes wrong...</td>\n",
       "      <td>Action, Adventure, Drama, Fantasy, Military</td>\n",
       "    </tr>\n",
       "    <tr>\n",
       "      <th>2</th>\n",
       "      <td>39486</td>\n",
       "      <td>Gintama: The Final</td>\n",
       "      <td>Two years have passed following the Tendoshuu'...</td>\n",
       "      <td>Action, Comedy, Drama, Sci-Fi, Gag Humor, Hist...</td>\n",
       "    </tr>\n",
       "    <tr>\n",
       "      <th>3</th>\n",
       "      <td>11061</td>\n",
       "      <td>Hunter x Hunter (2011)</td>\n",
       "      <td>Hunters devote themselves to accomplishing haz...</td>\n",
       "      <td>Action, Adventure, Fantasy</td>\n",
       "    </tr>\n",
       "    <tr>\n",
       "      <th>4</th>\n",
       "      <td>9969</td>\n",
       "      <td>Gintama'</td>\n",
       "      <td>After a one-year hiatus, Shinpachi Shimura ret...</td>\n",
       "      <td>Action, Comedy, Sci-Fi, Gag Humor, Historical,...</td>\n",
       "    </tr>\n",
       "  </tbody>\n",
       "</table>\n",
       "</div>"
      ],
      "text/plain": [
       "   mal_id                             title                                           synopsis                                           combined\n",
       "0   52991                 Sousou no Frieren  During their decade-long quest to defeat the D...                          Adventure, Drama, Fantasy\n",
       "1    5114  Fullmetal Alchemist: Brotherhood  After a horrific alchemy experiment goes wrong...        Action, Adventure, Drama, Fantasy, Military\n",
       "2   39486                Gintama: The Final  Two years have passed following the Tendoshuu'...  Action, Comedy, Drama, Sci-Fi, Gag Humor, Hist...\n",
       "3   11061            Hunter x Hunter (2011)  Hunters devote themselves to accomplishing haz...                         Action, Adventure, Fantasy\n",
       "4    9969                          Gintama'  After a one-year hiatus, Shinpachi Shimura ret...  Action, Comedy, Sci-Fi, Gag Humor, Historical,..."
      ]
     },
     "execution_count": 40,
     "metadata": {},
     "output_type": "execute_result"
    }
   ],
   "source": [
    "import re\n",
    "\n",
    "# Function to clean synopsis text\n",
    "def clean_synopsis(text):\n",
    "    if pd.isna(text):  # Handle NaN values\n",
    "        return text\n",
    "    return re.sub(r'\\(Source:.*?\\)|\\[Written by .*?\\]', '', text).strip()\n",
    "\n",
    "# Apply the function to clean the synopsis column\n",
    "df['synopsis'] = df['synopsis'].apply(clean_synopsis)\n",
    "\n",
    "# Display the cleaned DataFrame\n",
    "df.head()\n"
   ]
  },
  {
   "cell_type": "code",
   "execution_count": 41,
   "metadata": {},
   "outputs": [
    {
     "name": "stdout",
     "output_type": "stream",
     "text": [
      "Unique words and their frequency:\n",
      " combined\n",
      "Comedy               3958\n",
      "Action               3628\n",
      "Fantasy              2913\n",
      "Adventure            2593\n",
      "Sci-Fi               2259\n",
      "Drama                2078\n",
      "Romance              1583\n",
      "School               1481\n",
      "Supernatural          950\n",
      "Historical            891\n",
      "Slice of Life         861\n",
      "Mecha                 853\n",
      "Mystery               689\n",
      "Ecchi                 553\n",
      "Music                 545\n",
      "Military              496\n",
      "Adult Cast            487\n",
      "Super Power           479\n",
      "Sports                469\n",
      "Martial Arts          409\n",
      "Mythology             404\n",
      "Parody                401\n",
      "Space                 395\n",
      "Horror                384\n",
      "Suspense              362\n",
      "Psychological         351\n",
      "Harem                 335\n",
      "Avant Garde           317\n",
      "Isekai                302\n",
      "Anthropomorphic       296\n",
      "Mahou Shoujo          234\n",
      "                      230\n",
      "Award Winning         229\n",
      "Detective             226\n",
      "Gore                  222\n",
      "Strategy Game         213\n",
      "Team Sports           196\n",
      "Gag Humor             179\n",
      "CGDCT                 166\n",
      "Urban Fantasy         162\n",
      "Workplace             160\n",
      "Samurai               153\n",
      "Iyashikei             131\n",
      "Idols (Female)        127\n",
      "Boys Love             127\n",
      "Racing                125\n",
      "Vampire               121\n",
      "Time Travel           119\n",
      "Reincarnation         110\n",
      "Video Game            106\n",
      "Gourmet               105\n",
      "Educational            97\n",
      "Love Polygon           95\n",
      "Otaku Culture          93\n",
      "Organized Crime        83\n",
      "Performing Arts        81\n",
      "Pets                   74\n",
      "Girls Love             73\n",
      "Combat Sports          69\n",
      "Visual Arts            60\n",
      "Survival               58\n",
      "Reverse Harem          58\n",
      "Erotica                55\n",
      "Childcare              55\n",
      "Delinquents            51\n",
      "Idols (Male)           50\n",
      "High Stakes Game       48\n",
      "Medical                41\n",
      "Crossdressing          40\n",
      "Showbiz                39\n",
      "Love Status Quo        37\n",
      "Magical Sex Shift      24\n",
      "Villainess             16\n",
      "Hentai                  6\n",
      "Name: count, dtype: int64\n"
     ]
    },
    {
     "data": {
      "application/vnd.microsoft.datawrangler.viewer.v0+json": {
       "columns": [
        {
         "name": "index",
         "rawType": "int64",
         "type": "integer"
        },
        {
         "name": "word",
         "rawType": "object",
         "type": "string"
        },
        {
         "name": "frequency",
         "rawType": "int64",
         "type": "integer"
        }
       ],
       "conversionMethod": "pd.DataFrame",
       "ref": "6cc4272b-4e74-4f0a-8288-9fd14f8b3647",
       "rows": [
        [
         "0",
         "Comedy",
         "3958"
        ],
        [
         "1",
         "Action",
         "3628"
        ],
        [
         "2",
         "Fantasy",
         "2913"
        ],
        [
         "3",
         "Adventure",
         "2593"
        ],
        [
         "4",
         "Sci-Fi",
         "2259"
        ],
        [
         "5",
         "Drama",
         "2078"
        ],
        [
         "6",
         "Romance",
         "1583"
        ],
        [
         "7",
         "School",
         "1481"
        ],
        [
         "8",
         "Supernatural",
         "950"
        ],
        [
         "9",
         "Historical",
         "891"
        ]
       ],
       "shape": {
        "columns": 2,
        "rows": 10
       }
      },
      "text/html": [
       "<div>\n",
       "<style scoped>\n",
       "    .dataframe tbody tr th:only-of-type {\n",
       "        vertical-align: middle;\n",
       "    }\n",
       "\n",
       "    .dataframe tbody tr th {\n",
       "        vertical-align: top;\n",
       "    }\n",
       "\n",
       "    .dataframe thead th {\n",
       "        text-align: right;\n",
       "    }\n",
       "</style>\n",
       "<table border=\"1\" class=\"dataframe\">\n",
       "  <thead>\n",
       "    <tr style=\"text-align: right;\">\n",
       "      <th></th>\n",
       "      <th>word</th>\n",
       "      <th>frequency</th>\n",
       "    </tr>\n",
       "  </thead>\n",
       "  <tbody>\n",
       "    <tr>\n",
       "      <th>0</th>\n",
       "      <td>Comedy</td>\n",
       "      <td>3958</td>\n",
       "    </tr>\n",
       "    <tr>\n",
       "      <th>1</th>\n",
       "      <td>Action</td>\n",
       "      <td>3628</td>\n",
       "    </tr>\n",
       "    <tr>\n",
       "      <th>2</th>\n",
       "      <td>Fantasy</td>\n",
       "      <td>2913</td>\n",
       "    </tr>\n",
       "    <tr>\n",
       "      <th>3</th>\n",
       "      <td>Adventure</td>\n",
       "      <td>2593</td>\n",
       "    </tr>\n",
       "    <tr>\n",
       "      <th>4</th>\n",
       "      <td>Sci-Fi</td>\n",
       "      <td>2259</td>\n",
       "    </tr>\n",
       "    <tr>\n",
       "      <th>5</th>\n",
       "      <td>Drama</td>\n",
       "      <td>2078</td>\n",
       "    </tr>\n",
       "    <tr>\n",
       "      <th>6</th>\n",
       "      <td>Romance</td>\n",
       "      <td>1583</td>\n",
       "    </tr>\n",
       "    <tr>\n",
       "      <th>7</th>\n",
       "      <td>School</td>\n",
       "      <td>1481</td>\n",
       "    </tr>\n",
       "    <tr>\n",
       "      <th>8</th>\n",
       "      <td>Supernatural</td>\n",
       "      <td>950</td>\n",
       "    </tr>\n",
       "    <tr>\n",
       "      <th>9</th>\n",
       "      <td>Historical</td>\n",
       "      <td>891</td>\n",
       "    </tr>\n",
       "  </tbody>\n",
       "</table>\n",
       "</div>"
      ],
      "text/plain": [
       "           word  frequency\n",
       "0        Comedy       3958\n",
       "1        Action       3628\n",
       "2       Fantasy       2913\n",
       "3     Adventure       2593\n",
       "4        Sci-Fi       2259\n",
       "5         Drama       2078\n",
       "6       Romance       1583\n",
       "7        School       1481\n",
       "8  Supernatural        950\n",
       "9    Historical        891"
      ]
     },
     "execution_count": 41,
     "metadata": {},
     "output_type": "execute_result"
    }
   ],
   "source": [
    "# Split the genre strings by commas, flatten the list, and get unique values\n",
    "unique_words = set(df['combined'].dropna().str.split(', ').explode())\n",
    "\n",
    "# Convert to a sorted list for better readability\n",
    "unique_words = sorted(unique_words)\n",
    "\n",
    "# Display the unique words and their frequency\n",
    "word_freq = df['combined'].str.split(', ').explode().value_counts()\n",
    "print(\"Unique words and their frequency:\\n\", word_freq)\n",
    "word_df = pd.DataFrame(word_freq).reset_index()\n",
    "word_df.columns = ['word', 'frequency']\n",
    "word_df.head(10)\n"
   ]
  },
  {
   "cell_type": "code",
   "execution_count": 43,
   "metadata": {},
   "outputs": [
    {
     "data": {
      "application/vnd.microsoft.datawrangler.viewer.v0+json": {
       "columns": [
        {
         "name": "index",
         "rawType": "int64",
         "type": "integer"
        },
        {
         "name": "mal_id",
         "rawType": "int64",
         "type": "integer"
        },
        {
         "name": "title",
         "rawType": "object",
         "type": "string"
        },
        {
         "name": "synopsis",
         "rawType": "object",
         "type": "string"
        },
        {
         "name": "combined",
         "rawType": "object",
         "type": "string"
        }
       ],
       "conversionMethod": "pd.DataFrame",
       "ref": "5d6a35fa-f137-4a99-807a-203789a47634",
       "rows": [
        [
         "0",
         "52991",
         "Sousou no Frieren",
         "During their decade-long quest to defeat the Demon King, the members of the hero's party—Himmel himself, the priest Heiter, the dwarf warrior Eisen, and the elven mage Frieren—forge bonds through adventures and battles, creating unforgettable precious memories for most of them.\n\nHowever, the time that Frieren spends with her comrades is equivalent to merely a fraction of her life, which has lasted over a thousand years. When the party disbands after their victory, Frieren casually returns to her \"usual\" routine of collecting spells across the continent. Due to her different sense of time, she seemingly holds no strong feelings toward the experiences she went through.\n\nAs the years pass, Frieren gradually realizes how her days in the hero's party truly impacted her. Witnessing the deaths of two of her former companions, Frieren begins to regret having taken their presence for granted; she vows to better understand humans and create real personal connections. Although the story of that once memorable journey has long ended, a new tale is about to begin.",
         "Adventure, Drama, Fantasy"
        ],
        [
         "1",
         "5114",
         "Fullmetal Alchemist: Brotherhood",
         "After a horrific alchemy experiment goes wrong in the Elric household, brothers Edward and Alphonse are left in a catastrophic new reality. Ignoring the alchemical principle banning human transmutation, the boys attempted to bring their recently deceased mother back to life. Instead, they suffered brutal personal loss: Alphonse's body disintegrated while Edward lost a leg and then sacrificed an arm to keep Alphonse's soul in the physical realm by binding it to a hulking suit of armor.\n\nThe brothers are rescued by their neighbor Pinako Rockbell and her granddaughter Winry. Known as a bio-mechanical engineering prodigy, Winry creates prosthetic limbs for Edward by utilizing \"automail,\" a tough, versatile metal used in robots and combat armor. After years of training, the Elric brothers set off on a quest to restore their bodies by locating the Philosopher's Stone—a powerful gem that allows an alchemist to defy the traditional laws of Equivalent Exchange.\n\nAs Edward becomes an infamous alchemist and gains the nickname \"Fullmetal,\" the boys' journey embroils them in a growing conspiracy that threatens the fate of the world.",
         "Action, Adventure, Drama, Fantasy"
        ],
        [
         "2",
         "39486",
         "Gintama: The Final",
         "Two years have passed following the Tendoshuu's invasion of the O-Edo Central Terminal. Since then, the Yorozuya have gone their separate ways. Foreseeing Utsuro's return, Gintoki Sakata begins surveying Earth's ley lines for traces of the other man's Altana. After an encounter with the remnants of the Tendoshuu—who continue to press on in search of immortality—Gintoki returns to Edo.\n\nLater, the regrouped Shinsengumi and Yorozuya begin an attack on the occupied Central Terminal. With the Altana harvested by the wreckage of the Tendoshuu's ship in danger of detonating, the Yorozuya and their allies fight their enemies while the safety of Edo—and the rest of the world—hangs in the balance. Fulfilling the wishes of their teacher, Shouyou Yoshida's former students unite and relive their pasts one final time in an attempt to save their futures.",
         "Action, Comedy, Drama, Sci-Fi, Historical"
        ],
        [
         "3",
         "11061",
         "Hunter x Hunter (2011)",
         "Hunters devote themselves to accomplishing hazardous tasks, all from traversing the world's uncharted territories to locating rare items and monsters. Before becoming a Hunter, one must pass the Hunter Examination—a high-risk selection process in which most applicants end up handicapped or worse, deceased.\n\nAmbitious participants who challenge the notorious exam carry their own reason. What drives 12-year-old Gon Freecss is finding Ging, his father and a Hunter himself. Believing that he will meet his father by becoming a Hunter, Gon takes the first step to walk the same path.\n\nDuring the Hunter Examination, Gon befriends the medical student Leorio Paladiknight, the vindictive Kurapika, and ex-assassin Killua Zoldyck. While their motives vastly differ from each other, they band together for a common goal and begin to venture into a perilous world.",
         "Action, Adventure, Fantasy"
        ],
        [
         "4",
         "9969",
         "Gintama'",
         "After a one-year hiatus, Shinpachi Shimura returns to Edo, only to stumble upon a shocking surprise: Gintoki and Kagura, his fellow Yorozuya members, have become completely different characters! Fleeing from the Yorozuya headquarters in confusion, Shinpachi finds that all the denizens of Edo have undergone impossibly extreme changes, in both appearance and personality. Most unbelievably, his sister Otae has married the Shinsengumi chief and shameless stalker Isao Kondou and is pregnant with their first child.\n\nBewildered, Shinpachi agrees to join the Shinsengumi at Otae and Kondou's request and finds even more startling transformations afoot both in and out of the ranks of the the organization. However, discovering that Vice Chief Toushirou Hijikata has remained unchanged, Shinpachi and his unlikely Shinsengumi ally set out to return the city of Edo to how they remember it.\n\nWith even more dirty jokes, tongue-in-cheek parodies, and shameless references, Gintama' follows the Yorozuya team through more of their misadventures in the vibrant, alien-filled world of Edo.",
         "Action, Comedy, Sci-Fi, Historical"
        ]
       ],
       "shape": {
        "columns": 4,
        "rows": 5
       }
      },
      "text/html": [
       "<div>\n",
       "<style scoped>\n",
       "    .dataframe tbody tr th:only-of-type {\n",
       "        vertical-align: middle;\n",
       "    }\n",
       "\n",
       "    .dataframe tbody tr th {\n",
       "        vertical-align: top;\n",
       "    }\n",
       "\n",
       "    .dataframe thead th {\n",
       "        text-align: right;\n",
       "    }\n",
       "</style>\n",
       "<table border=\"1\" class=\"dataframe\">\n",
       "  <thead>\n",
       "    <tr style=\"text-align: right;\">\n",
       "      <th></th>\n",
       "      <th>mal_id</th>\n",
       "      <th>title</th>\n",
       "      <th>synopsis</th>\n",
       "      <th>combined</th>\n",
       "    </tr>\n",
       "  </thead>\n",
       "  <tbody>\n",
       "    <tr>\n",
       "      <th>0</th>\n",
       "      <td>52991</td>\n",
       "      <td>Sousou no Frieren</td>\n",
       "      <td>During their decade-long quest to defeat the D...</td>\n",
       "      <td>Adventure, Drama, Fantasy</td>\n",
       "    </tr>\n",
       "    <tr>\n",
       "      <th>1</th>\n",
       "      <td>5114</td>\n",
       "      <td>Fullmetal Alchemist: Brotherhood</td>\n",
       "      <td>After a horrific alchemy experiment goes wrong...</td>\n",
       "      <td>Action, Adventure, Drama, Fantasy</td>\n",
       "    </tr>\n",
       "    <tr>\n",
       "      <th>2</th>\n",
       "      <td>39486</td>\n",
       "      <td>Gintama: The Final</td>\n",
       "      <td>Two years have passed following the Tendoshuu'...</td>\n",
       "      <td>Action, Comedy, Drama, Sci-Fi, Historical</td>\n",
       "    </tr>\n",
       "    <tr>\n",
       "      <th>3</th>\n",
       "      <td>11061</td>\n",
       "      <td>Hunter x Hunter (2011)</td>\n",
       "      <td>Hunters devote themselves to accomplishing haz...</td>\n",
       "      <td>Action, Adventure, Fantasy</td>\n",
       "    </tr>\n",
       "    <tr>\n",
       "      <th>4</th>\n",
       "      <td>9969</td>\n",
       "      <td>Gintama'</td>\n",
       "      <td>After a one-year hiatus, Shinpachi Shimura ret...</td>\n",
       "      <td>Action, Comedy, Sci-Fi, Historical</td>\n",
       "    </tr>\n",
       "  </tbody>\n",
       "</table>\n",
       "</div>"
      ],
      "text/plain": [
       "   mal_id                             title                                           synopsis                                   combined\n",
       "0   52991                 Sousou no Frieren  During their decade-long quest to defeat the D...                  Adventure, Drama, Fantasy\n",
       "1    5114  Fullmetal Alchemist: Brotherhood  After a horrific alchemy experiment goes wrong...          Action, Adventure, Drama, Fantasy\n",
       "2   39486                Gintama: The Final  Two years have passed following the Tendoshuu'...  Action, Comedy, Drama, Sci-Fi, Historical\n",
       "3   11061            Hunter x Hunter (2011)  Hunters devote themselves to accomplishing haz...                 Action, Adventure, Fantasy\n",
       "4    9969                          Gintama'  After a one-year hiatus, Shinpachi Shimura ret...         Action, Comedy, Sci-Fi, Historical"
      ]
     },
     "execution_count": 43,
     "metadata": {},
     "output_type": "execute_result"
    }
   ],
   "source": [
    "# Define the set of allowed categories\n",
    "allowed_categories = {\"Action\", \"Adventure\", \"Comedy\", \"Drama\", \"Ecchi\", \n",
    "                      \"Fantasy\", \"Historical\", \n",
    "                      \"Mecha\", \"Music\", \"Mystery\", \n",
    "                      \"Romance\", \"School\", \"Sci-Fi\", \"Slice of Life\", \"Supernatural\"}\n",
    "\n",
    "# Function to filter genres in the 'combined' column\n",
    "def filter_genres(genre_string):\n",
    "    if pd.isna(genre_string):  # Handle NaN values\n",
    "        return genre_string\n",
    "    filtered_genres = [genre for genre in genre_string.split(', ') if genre in allowed_categories]\n",
    "    return ', '.join(filtered_genres) if filtered_genres else None  # Convert empty results to NaN\n",
    "\n",
    "# Apply the filtering function\n",
    "df['combined'] = df['combined'].apply(filter_genres)\n",
    "\n",
    "# Remove rows where 'combined' is now empty (i.e., all genres were removed)\n",
    "df.dropna(subset=['combined'], inplace=True)\n",
    "\n",
    "# Reset index for cleanliness\n",
    "df.reset_index(drop=True, inplace=True)\n",
    "\n",
    "# Display the updated DataFrame\n",
    "\n",
    "df.shape\n",
    "df.head()\n"
   ]
  },
  {
   "cell_type": "code",
   "execution_count": 44,
   "metadata": {},
   "outputs": [],
   "source": [
    "# Simplifying genre names to English\n",
    "genre_translation = {\n",
    "    \"Ecchi\": \"Lewd\",\n",
    "    \"Mecha\": \"Fighting Robots\",\n",
    "    \"Sci-Fi\": \"Science Fiction\",\n",
    "    \"Slice of Life\": \"Everyday Life\"\n",
    "\n",
    "}\n",
    "\n",
    "# Function to translate genres in a list\n",
    "def translate_genres(genre_list):\n",
    "    return [genre_translation.get(g, g) for g in genre_list]  # Replace if in dict, else keep as is\n",
    "\n",
    "# Apply translation to the 'combined' column\n",
    "df[\"combined\"] = df[\"combined\"].apply(lambda x: \", \".join(translate_genres(x.split(\", \"))))\n"
   ]
  },
  {
   "cell_type": "code",
   "execution_count": 46,
   "metadata": {},
   "outputs": [],
   "source": [
    "df.to_csv('anime_dataset_cleaned.csv', index=False)"
   ]
  },
  {
   "cell_type": "code",
   "execution_count": 47,
   "metadata": {},
   "outputs": [
    {
     "name": "stdout",
     "output_type": "stream",
     "text": [
      "Rows with empty synopses: Empty DataFrame\n",
      "Columns: [mal_id, title, synopsis, combined]\n",
      "Index: []\n",
      "Number of duplicated synopses: 198\n",
      "synopsis\n",
      "\"Unbelievable\" Zorori is a prankster fox determined to become the Prince of Mischief, with his very own castle and beautiful bride. While is notorious for his prank-making schemes, his ill-meaning plots often backfire against him, and can usually end up even benefiting or cheering up his targets, much to his dismay. Nevertheless, Zorori has the wits and intelligence to wriggle out of the tightest of all spots, and journeys with a pair of twin boars, Ishishi and Noshishi, in order to fulfill his long wished-for goal and at last prove to his deceased mother, Mama Zorori that he truly holds the potential to achieve his dreams.                                                                                                                                                                                                                                                                                                                                                                                                                                                                                                        2\n",
      "A Chinese prince meets a regular civilian during his travels and quickly falls in love. They marry and have a daughter, but the prince is soon separated from them during a rebellion. Many years later, the prince has become emperor and locates his lost daughter. She comes to live with him, but unfortunately has picked up several unrefined habits during her times as a civilian.                                                                                                                                                                                                                                                                                                                                                                                                                                                                                                                                                                                                                                                                                                                                                                     2\n",
      "A baby princess named Ocean is sent away from the North Pole by her mother because of the tyranny of the magma dragon who controls the volcano. The next twelve years, Princess Ocean lives on a local island and encounters a transforming polar bear whom she names Roly Poly. And she talks to a duo of little fish. While encountering the pirates, she meets an inventor named Momo. Their plan is to subdue and defeat the magma dragon.                                                                                                                                                                                                                                                                                                                                                                                                                                                                                                                                                                                                                                                                                                                 2\n",
      "A boy/cop who liked playing with his testicles, sentencing people to death, and occasionally transforming into a deer or elephant.                                                                                                                                                                                                                                                                                                                                                                                                                                                                                                                                                                                                                                                                                                                                                                                                                                                                                                                                                                                                                             2\n",
      "A comedy about a former genius who has now become very eccentric and senile. His family deals with all the crazy problems he and his old friends cause around the neighborhood.                                                                                                                                                                                                                                                                                                                                                                                                                                                                                                                                                                                                                                                                                                                                                                                                                                                                                                                                                                                2\n",
      "A gag comedy about Oshiri Kajiri Mushi XVIII, a 10-year-old insect who goes to Biting School to inherit his family's Biting Shop business.                                                                                                                                                                                                                                                                                                                                                                                                                                                                                                                                                                                                                                                                                                                                                                                                                                                                                                                                                                                                                     3\n",
      "A gag comedy aimed at young children featuring Zombie-kun, a child zombie, and his interactions with the world. It's not intended to be scary in the slightest, but rather, it focuses on the comical and bizarre things Zombie-kun's body can do, and the common-sense-defying way Zombie-kun behaves. For example, he'll take out his stomach and inflate it with air to use as a pillow, or if he gets wet, he'll detach parts of his body and wring them out like towels, then reattach them with a glue stick. Everything is depicted in a cute, cartoony fashion so as not to be too graphic for kids.                                                                                                                                                                                                                                                                                                                                                                                                                                                                                                                                                   2\n",
      "A young mystic without a past, Kujaku was born under a dark omen possessed of incredible supernatural powers. Raised by priests, he has learned to use these powers for good. But the evil Siegfried von Mittgard seeks to steal his birthright, and rule the world as the Regent of Darkness. He has dispatched bloodthirsty minions to destroy Kujaku before he can awaken to his destiny. Now, Kujaku must unravel the riddle of his past, before the power within consumes him!                                                                                                                                                                                                                                                                                                                                                                                                                                                                                                                                                                                                                                                                            2\n",
      "An online motion graphic spin-off series that provides a comedic interpretation of events that have occurred in conjunction with the Anime. These episodes were originally posted on the series' official Twitter page on a weekly basis that coincided with the debut of each of the anime's episodes, and were later included in the Blu-ray BOX sets. The voice cast for the Picture Dramas is the same as the Anime cast.                                                                                                                                                                                                                                                                                                                                                                                                                                                                                                                                                                                                                                                                                                                                  2\n",
      "An original anime DVD bundled with a limited edition of saxyun's 4th Yurumates manga volume. The bundled DVD contained the opening animation sequence for the television anime series and its first episode, as well as two unaired episodes. The limited edition also included an exclusive booklet.                                                                                                                                                                                                                                                                                                                                                                                                                                                                                                                                                                                                                                                                                                                                                                                                                                                          2\n",
      "Aoba is a young girl who loves to build models of robots. She lived alone with her grandmother until her grandmother passes away. Shortly after she is kidnapped and brought to a secret base where she discovers a huge robot. The piloted robots fight against Ancient-Jinki in The Grand Savanna, but the true meaning behind the fights is hidden. Aoba works hard at the base so one day she can pilot one of the robots and discover these secrets.                                                                                                                                                                                                                                                                                                                                                                                                                                                                                                                                                                                                                                                                                                      2\n",
      "Created by Maria Perego, Topo Gigio has been a beloved character for more than two decades. This animated TV series features numerous exciting stories and introduces many friends.\\n\\nTopo Gigio is the first mouse astronaut to travel the Milky Way. Can a mouse become an astronaut? Well, Topo Gigio has come from a year 2,388,400 years ahead in the future. He is friendly and can talk with humans. He makes friends with his neighbors including a girl, her pet mouse, cats, and other mice.                                                                                                                                                                                                                                                                                                                                                                                                                                                                                                                                                                                                                                                        2\n",
      "Dramatic story of the Yamazaki family during the year Showa 39 (1964), the year that Tokyo hosted the Summer Olympics.                                                                                                                                                                                                                                                                                                                                                                                                                                                                                                                                                                                                                                                                                                                                                                                                                                                                                                                                                                                                                                         2\n",
      "Each episode follows Fukuzou Moguro, a traveling salesman, and his current customer. Moguro deals in things that give his customers their heart's desire, and once his deals are made and their unhealthy desires are satisfied, Moguro's customers are often left with terrible repercussions, especially if they break the rules of his deals...                                                                                                                                                                                                                                                                                                                                                                                                                                                                                                                                                                                                                                                                                                                                                                                                             2\n",
      "Following their success in the qualifying round for the Kansai regional competition, the members of the Kitauji High School concert band set their sights on the next upcoming performance. Utilizing their summer break to the utmost, the band participates in a camp where they are instructed by their band advisor Noboru Taki and his friends who make their living as professional musicians.\\n\\nKumiko Oumae and her friends remain determined to attain gold at the Kansai competition, but trouble arises when a student who once quit the band shows interest in rejoining and sparks unpleasant memories for the second-year members. Kumiko also learns about her teacher's surprising past and the motivation behind his desire to lead the band to victory. Reaching nationals will require hard work, and the adamant conviction in each student's commitment to the band will be put to the test.                                                                                                                                                                                                                                             2\n",
      "For high schooler Kei—and for at least forty-six others—immortality comes as the nastiest surprise ever.\\n\\nSadly for Kei, such a feat doesn't make him a superhero. In the eyes of both the general public and governments, he's a rare specimen who needs to be hunted down and handed over to scientists to be experimented on for life—a demi-human who must die a thousand deaths for the benefit of humanity.                                                                                                                                                                                                                                                                                                                                                                                                                                                                                                                                                                                                                                                                                                                                            3\n",
      "Grandpa Danger is a world where the great protector is Grandpa Danger! He's an expert at falling off of cliffs, dealing with a principal who suffers from a severe inferiority complex, and escaping the hidden dangers of sleep! He's a nonsensical, utterly disgusting, relentless prankster. Grandpa Danger's excessive phlegm and farts frustrate Grandson to hilarious extremes, and make you laugh until your stomach splits!                                                                                                                                                                                                                                                                                                                                                                                                                                                                                                                                                                                                                                                                                                                            2\n",
      "In 356 BC, Alexander the Great arrives in Greece with the ominous destiny that he will become the \"destroyer of the world.\" Inheriting the crown, he becomes king of the Macedonians and starts down a road of conquest with terrific speed. Alexander ultimately confronts his fated nemesis, Darius the Third, in a war with Persia which changes Alexander into the devil he was fated to become, assuring the destruction of all in his path, and possibly himself.                                                                                                                                                                                                                                                                                                                                                                                                                                                                                                                                                                                                                                                                                        2\n",
      "In a land where no magic is present. A land where the strong make the rules and weak have to obey. A land filled with alluring treasures and beauty, yet also filled with unforeseen danger. Three years ago, Xiao Yan, who had shown talents none had seen in decades, suddenly lost everything. His powers, his reputation, and his promise to his mother. What sorcery has caused him to lose all of his powers? And why has his fiancee suddenly shown up?                                                                                                                                                                                                                                                                                                                                                                                                                                                                                                                                                                                                                                                                                                 2\n",
      "In ages past, the Kingdom of the Vale, a mighty and flourishing realm, fell into turmoil. The ruler's two sons turned against each other, unleashing the powers of their Legendary familiars—Reshiram and Zekrom—and disturbing the Dragon Force that supplied the kingdom with energy. With the help of the Mythical Pokémon Victini, balance was restored and the Dragon Force was bound by the Sword of the Vale. Should the Sword be moved, devastation will loom again.\\n\\nDamon, a descendant of the now scattered People of the Vale, is attempting to restore his people's kingdom to its former glory. He manages to summon Legendary Pokémon Zekrom, with the aim of lifting the Sword of the Vale and harnessing the power of the Dragon Force himself.\\n\\nMeanwhile, Satoshi and his companions visit Eindoak Town, located at the foot of the Sword of the Vale. Confronted with Damon's scheme, they lend a hand to Victini, guardian of the Vale, in stopping the plan from coming to fruition and preventing a repeat of the tragedy that occurred a millennium ago.                                                                           2\n",
      "In an odd dimensional bubble inside the kettle of an Oden food cart exists Oden village. The residents of Oden village spend their idyllic days waiting for customers to come and eat them. In the meantime, Oden-kun helps other troubled dwellers to realize their dreams. One day, he hears that a customer's mother suffers from cancer so he leaves the kettle and after being eaten, faces the cancer cell Gannosuke. Oden-kun's dream is to meet his own mother. Looking forward to this day, Oden-kun spends his days doing one good deed a day.                                                                                                                                                                                                                                                                                                                                                                                                                                                                                                                                                                                                       2\n",
      "In order to go back to the past, Guan Chao tries hard to find the \"burning stone\" that activates the time gun, but accidentally falls into the Memory Management Bureau. Only by conquering the BUG people in the memory layer can he return to reality. With the help of administrators such as Fangtang and Baizhong, can Guan Chao successfully complete the task? What kind of challenges are awaiting Guan Chao in each memory layer...                                                                                                                                                                                                                                                                                                                                                                                                                                                                                                                                                                                                                                                                                                                   2\n",
      "In the far future, war has destroyed the entire Earth, leaving only a barren wasteland where the supply of water is controlled by the greedy king. In search of a long-lost lake, Sheriff Rao asked the king of the demons for help...and got the king's son, Beelzebub, and his assistant, Thief. Together the unlikely trio sets off across the desert, facing dragons, bandits and the deadliest foe of all... the King's army itself!                                                                                                                                                                                                                                                                                                                                                                                                                                                                                                                                                                                                                                                                                                                      2\n",
      "In the late 90's, in China, Tu Xiaoyi, an high school student, takes no interest in marks and prefers to play video games with his friend nicknamed \"Peanut.\" One day, he was chosen by his teacher to become the class representative with Yao Zhetian, a very cute girl. He will experience his first love and disappointments.                                                                                                                                                                                                                                                                                                                                                                                                                                                                                                                                                                                                                                                                                                                                                                                                                              2\n",
      "In the year 0068 of the Universal Century, Casval Rem Deikun's life is thrown into chaotic disarray after the assassination of his father, a prolific figure in the crusade towards civil rights for people who live away from the Earth's surface. Casval and his sister Artesia receive aid from soldiers who were loyal to their father, and the siblings are whisked away from their home, separated, and thrown into a twisted fate that sees them come into their own as soldiers and adults.\\n\\nYears before stealing the name Char Aznable or his \"Red Comet\" moniker, Casval must contend with the rise of a militarized version of his father's ideology and his own vengeful nature as intergalactic war molds him into a legendary mobile suit pilot.                                                                                                                                                                                                                                                                                                                                                                                              2\n",
      "In the year 2029, Niihama City has become a technologically advanced metropolis. Due to great improvements in cybernetics, its citizens are able to replace their limbs with robotic parts. The world is now more interconnected than ever before, and the city's Public Security Section 9 is responsible for combating corruption, terrorism, and other dangerous threats following this shift toward globalization.\\n\\nThe strong-willed Major Motoko Kusanagi of Section 9 spearheads a case involving a mysterious hacker known only as the \"Puppet Master,\" who leaves a trail of victims stripped of their memories. Like many in this futuristic world, the Puppet Master's body is almost entirely robotic, giving them incredible power.\\n\\nAs Motoko and her subordinates follow the enigmatic criminal's trail, other parties—including Section 6—start to get involved, forcing her to confront the extremely complicated nature of the case. Pondering about various philosophical questions, such as her own life's meaning, Motoko soon realizes that the one who will provide these answers is none other than the Puppet Master themself.    2\n",
      "In this film, because of complaints from children that Goku is depicted as too much of an eager student, he is instead portrayed as a very naughty modern boy. It then received so many complaints from the PTA about its bad language that it was forced out of the show after all.                                                                                                                                                                                                                                                                                                                                                                                                                                                                                                                                                                                                                                                                                                                                                                                                                                                                           2\n",
      "It is the dark century and the people are suffering under the rule of the devil, Vandel, who is able to manipulate monsters. The Vandel Busters are a group of people who hunt these devils, and among them, the Zenon Squad is known to be the strongest busters on the continent. A young boy, Beet, dreams of joining the Zenon Squad. However, one day, as a result of Beet's fault, the Zenon squad was defeated by the devil, Beltose. The five dying busters sacrificed their life power into their five weapons, Saiga. After giving their weapons to Beet, they passed away. Years have passed since then and the young Vandel Buster, Beet, begins his adventure to carry out the Zenon Squad's will to put an end to the dark century.                                                                                                                                                                                                                                                                                                                                                                                                              2\n",
      "Kamimine Town, located in the eastern part of Saga Prefecture, is a place associated with the legendary military commander Minamoto no Tametomo, who is said to be \"Yoshitsune in the east, Tametomo in the west.\"\\n\\nHere, he called himself \"Hachirou Chinzei\" and built a castle. Chinzei and his army is said to have defeated 50,000 enemies, and many legends were left behind.\\n\\nA master of bows and a big man, Chinzei had a rough temper and was even called a violent person by nature. But he was also a person with warmth and kindness full of humanity.                                                                                                                                                                                                                                                                                                                                                                                                                                                                                                                                                                                        2\n",
      "Kidnapped and rescued by a Ninja, Fujimaru has mastered martial arts over the years. Now he sets off on a journey to find his mother and also locate an old tome containing secret martial arts techniques.                                                                                                                                                                                                                                                                                                                                                                                                                                                                                                                                                                                                                                                                                                                                                                                                                                                                                                                                                    2\n",
      "Kitarou, a ghost, spends his afterlife helping humans in need of his skills. He thwarts the plans of evil spirits who live to torment humanity.                                                                                                                                                                                                                                                                                                                                                                                                                                                                                                                                                                                                                                                                                                                                                                                                                                                                                                                                                                                                                2\n",
      "Kujo Jotaro is a normal, popular Japanese high-schooler, until he thinks that he is possessed by a spirit, and locks himself in prison. After seeing his grandfather, Joseph Joestar, and fighting Joseph's friend Muhammad Abdul, Jotaro learns that the \"Spirit\" is actually Star Platinum, his Stand, or fighting energy given a semi-solid form. Later, his mother gains a Stand, and becomes sick. Jotaro learns that it is because the vampire Dio Brando has been revived 100 years after his defeat to Jonathan Joestar, Jotaro's great-great-grandfather. Jotaro decides to join Joseph and Abdul in a trip to Egypt to defeat Dio once and for all.                                                                                                                                                                                                                                                                                                                                                                                                                                                                                                  2\n",
      "Lee Myeongyi has lived his whole life with pneumothorax—a collapsed lung. He despises the attention he draws at school with his bouts of loud hyperventilating, extended coughing fits, and exemption from physical education as well as military service. Whether suffering through the curiosity or ire of his classmates, Myeongyi is left feeling like a complete outcast. However, the class president Han Seonho often shows Myeongyi kindness and understanding. With his friendly gestures and handsome looks, he becomes Myeongyi's first crush.\\n\\nNine years later, Myeongyi attends his high school reunion for only one reason: to see Han Seonho once again. He holds a tiny glimmer of hope about the other man's feelings for him—but after seeing the bright gold ring on Seonho's left hand and listening to their classmates' prying questions, that hope is quickly dashed. Excusing himself to go take a smoke, regardless of the state of his lungs, Myeongyi is followed outside by Seonho. Unexpectedly, that marks the beginning of their illicit love affair.                                                                        2\n",
      "Life is not easy for Anne Shirley, an 11-year-old orphan with a vast imagination and a short temper. In a twist of fate, she gets taken into the Cuthbert house in Avonlea. The elderly occupants Marilla and Matthew Cuthbert were looking for a young boy to help in the fields, but they're in for quite a shock when they realize Anne is a girl.\\n\\nAdapted from the acclaimed classic by L. M. Montgomery, Akage no Anne portrays Anne's upbringing from 11 to 17 years of age and her encounters and separations with various people. Only time will tell what major decision Anne has to make that will change her life forever.                                                                                                                                                                                                                                                                                                                                                                                                                                                                                                                       2\n",
      "Long ago, in feudal Japan, there was a fierce warrior named the Demon King. He controlled a band of demons, known as the Kyouma. Only the powers of ten warriors sealed the Demon King away and kept the Kyouma under control. But now, Lord Shindigan, a powerful Kyouma is planning to free the Demon King, and the reincarnations of the ten warriors must band together and save the earth.                                                                                                                                                                                                                                                                                                                                                                                                                                                                                                                                                                                                                                                                                                                                                                2\n",
      "Lupin III chronicles the adventures of Arsene Lupin III, the world's greatest thief, and his partners in crime: master marksman Daisuke Jigen, beautiful and scheming Fujiko Mine and stoic samurai Goemon Ishikawa XIII. Lupin and his gang travel around the globe in search of the world's greatest treasures and riches and always keeping one step ahead of the tireless Inspector Zenigata, who has vowed to bring Lupin to justice.                                                                                                                                                                                                                                                                                                                                                                                                                                                                                                                                                                                                                                                                                                                     2\n",
      "Manji is an infamous swordsman in feudal Japan who is known as the \"Hundred Man Killer,\" as he has killed one hundred innocent men. However, there is something far more frightening than his ominous reputation: the fact that he is immortal. This is the handiwork of eight-hundred-year-old nun Yaobikuni, who placed bloodworms capable of healing almost any wound in Manji's body.\\n\\nTo atone for his crimes, Manji resolves to kill one thousand evil men. Yaobikuni agrees to this proposal, saying that if he succeeds, she will undo his curse of immortality. Soon after this promise, Manji meets Rin Asano, a 16-year-old girl who requests Manji's assistance in killing those who slaughtered her parents.\\n\\nInitially reluctant, Manji refuses Rin's desperate plea. However, owing to her evident lack of strength, Manji changes his mind and agrees to protect Rin for four years. With this partnership set in stone, the two embark on a perilous journey of bloodshed, vengeance, and redemption, each to fulfill their own life's cause.                                                                                             2\n",
      "Matsutaka Nanako is a normal university student, who happened to enroll in an Abnormal Physiology seminar. She tries to keep her mental state sound, but other abnormal classmates start to influence her personality...                                                                                                                                                                                                                                                                                                                                                                                                                                                                                                                                                                                                                                                                                                                                                                                                                                                                                                                                       2\n",
      "Michi and her family have just moved into the Happiness House, a huge tree with all sorts of little buildings and houses built on and inside of it. Upon exploring what is to be her new bedroom, Michi finds an odd nut-like object. Before long, a strange creature, Nanami-chan, hatches out of it. The two become fast friends. Together, Michi and Nanami-chan learn all kind of new things, and everyday they meet more eccentric residents of the Happiness House.                                                                                                                                                                                                                                                                                                                                                                                                                                                                                                                                                                                                                                                                                      3\n",
      "Momoko Sakura is an elementary school student who likes popular idol Momoe Yamaguchi and mangas. She is often called \"Chibi Maruko-chan\" due to her young age and small size. She lives together with her parents, her grandparents and her elder sister in a little town. In school, she has many friends with whom she studies and plays together everyday, including her close pal, Tama-chan; the student committee members, Maruo-kun and Migiwa-san; and the B-class trio: 'little master' Hanawa-kun, Hamaji-Bu Taro and Sekiguchi-kun. This is a fun-loving and enjoyable anime that portrays the simple things in life.                                                                                                                                                                                                                                                                                                                                                                                                                                                                                                                               2\n",
      "Nanocore is a science fiction Chinese cartoon in 3D. The stage of the story is established on a fictional planet Birthigin. In this young planet, humanity will never stop longing for a bright future despite reason and fear. In revolutions and evolutions, humanity keeps challenging the Creator, and which eventually induces contractions intensified. People choose to wake up and struggle for their own ideals. They end the peace and angers sweep the whole planet, resulting in outbreak of the crisis known as Purple Fog.\\n\\nIn time of humans facing their odds of survival, the plan N.S.P led by the elite keeps frustrating until NanoCore's involving. It brings the plan his birth. As the existence, that the elite thinks should lead the development of human weapons, however, he breaks shackles of fate, and arrives at a land where faith no longer exists.\\n\\nHe learns to make choices and grows up with them, and the dim future of Birthigin thus begins to change.                                                                                                                                                            3\n",
      "Nobita finds a fossilized dinosaur egg by accident, and with the help of Doraemon's tools, they hatched the egg and began raising the dinosaur. Knowing that they can't keep the dinosaur forever, Nobita was forced to send it back to prehistoric times where a group of hunters from the future threatens to endanger the dinosaurs. Determined to save the dinosaurs from the claws of the hunters, Doraemon and the gang returns to the past and sets out in a prehistoric adventure.                                                                                                                                                                                                                                                                                                                                                                                                                                                                                                                                                                                                                                                                     2\n",
      "Rem is an ordinary woman in our world but, in the world of dreams, she becomes a dream warrior, defending humanity from the evils there. When dream demons reach the waking world, she fights them with the help of her pets which transform into a tiger and wolf.                                                                                                                                                                                                                                                                                                                                                                                                                                                                                                                                                                                                                                                                                                                                                                                                                                                                                            3\n",
      "Set in the land of Yuguto, the people thought that the land they live is the size of the world, but it’s actually divided into several areas, each with a respective king. Even though there were small wars among areas, the kings had roundtable meetings to maintain peace and balance. It was until a dark group of dark monsters appeared...                                                                                                                                                                                                                                                                                                                                                                                                                                                                                                                                                                                                                                                                                                                                                                                                              3\n",
      "Shikidouji, the illustrator of Shoji Gatoh's Full Metal Panic! light novel series, revealed that production has been green-lit on a \"director's cut\" version of the first Full Metal Panic!! television anime series from 2002. The director's cut will consist of three films. The announcement does not state if the film trilogy will add new footage.                                                                                                                                                                                                                                                                                                                                                                                                                                                                                                                                                                                                                                                                                                                                                                                                      3\n",
      "Small for his age, Yukinari has been bullied and abused by girls all his life. Now in high school, he has developed a rare condition: whenever girls touch him, or even come close, he breaks out in hives. Imagine his surprise, when he is suddenly transported to the city of Seiren on a mystic world invisibly orbiting the Earth, and populated with vast numbers of women and very few men. Fortunately, he has a new friend, Miharu-chan, whose touch inexplicably doesn't affect him.                                                                                                                                                                                                                                                                                                                                                                                                                                                                                                                                                                                                                                                                 2\n",
      "The Bakumatsu was an era in which the souls of young men burned with anxiety for their country's future. Takasugi Shinsaku, a soldier of fortune from Choshu, sneaks aboard a government ship with his comrade Katsura Kogorou in search of a mysterious \"timepiece\" with the power to manipulate time that he fears the government wishes to keep for themselves. Rather than allow such power to fall into the wrong hands, Takasugi plans to destroy the artifact, but having obtained it, the artifact is quickly stolen, forcing the pair to follow the mysterious thief to the seat of government in Kyoto. However, when they arrive in the capital, they discover that the government has been overthrown and the deity Susanoo now reigns in its place. The streets of the city and the people in them are much different than Takasugi and Katsura remembered. The times may have changed but their mission hasn't - Takasugi and Katsura resolve to reset time and save their nation from the nefarious forces trying to hijack it.                                                                                                                 2\n",
      "The Mutou family leads a peaceful life: Kouichirou works at a construction site and his wife Mari is returning from an overseas trip. Their daughter Ayumu has just finished her track practice while their son Gou is playing video games at home. However, life as they know it is flipped upside down when a calamitous earthquake strikes the entire Japanese archipelago—obliterating the face of the country in an instant.\\n\\nWith society crumbling around them and their nation gradually sinking into the ocean, the Mutou family must band together to survive the catastrophe. Treading the near-apocalyptic setting, they struggle not only to stay alive, but also to learn the difficulty of coping with loss.                                                                                                                                                                                                                                                                                                                                                                                                                                  2\n",
      "The Snack World follows a ragtag group of friends who embark on an adventure together. They live in a land similar to traditional fantasy settings but with certain modern twists like cell phones and convenience stores.                                                                                                                                                                                                                                                                                                                                                                                                                                                                                                                                                                                                                                                                                                                                                                                                                                                                                                                                     2\n",
      "The age of the demons has begun. Dr Faust has foreseen this rise of evil. Unfortunately, he is near death and is unable to personally battle this upcoming threat. Faust entrusts a young boy, Shingo Yamada, to take the responsibility of ridding the Earth of this new evil presence. Faust finds a birthmark on Shingo's forehead that signifies that he is the chosen demon fighter. Faust summons from hell what may be humanity's only hope of surviving: a less than enthusiastic devil named Mephisto rises. After signing a pact in blood to save humankind, Shingo and Mephisto set out to battle the supernatural world.                                                                                                                                                                                                                                                                                                                                                                                                                                                                                                                           2\n",
      "The anime centers around the daily life of two twin bear sisters: the orange-colored Lulu and the yellow-colored Lolo. The two take on new jobs and, despite the occasional failure and tears, give their best efforts.                                                                                                                                                                                                                                                                                                                                                                                                                                                                                                                                                                                                                                                                                                                                                                                                                                                                                                                                        2\n",
      "The comedy series is set in Japan and follows Naoko Watanabe, a typical tween girl aside from the fact that she possesses strange and sometimes troubling powers. When her anger exceeds a maximum level, she turns into Gauko, the fire-breathing dinosaur girl.                                                                                                                                                                                                                                                                                                                                                                                                                                                                                                                                                                                                                                                                                                                                                                                                                                                                                              2\n",
      "The courtyard is awash with cherry blossom petals, appearing especially beautiful in the moonlight. Kagura, waking up, sits in the hallway facing the courtyard, \"The courtyard at night, seems like something can happen anytime......\"\\nSuddenly a butterfly glides past, its scales glittering.\\nKochou no Sei: That's right. Nighttime is indeed suitable for telling stories.\\nKagura grows sleepy under the influence of dust.\\nKochou no Sei: After Kagura-sama falls asleep - that will be the beginning of the story in the dream!                                                                                                                                                                                                                                                                                                                                                                                                                                                                                                                                                                                                                    2\n",
      "The journey to the West was a conspiracy of heaven! After Sutra went missing for more than a decade, Heaven sent its army to search, in order not to let the Sutra once again fall into the hands of heaven, the journey to West begin again.                                                                                                                                                                                                                                                                                                                                                                                                                                                                                                                                                                                                                                                                                                                                                                                                                                                                                                                  2\n",
      "The series takes place on a fantastical world where crystals can provide great strength. Their value has led to to the rise of a unique profession: crystal hunting.                                                                                                                                                                                                                                                                                                                                                                                                                                                                                                                                                                                                                                                                                                                                                                                                                                                                                                                                                                                           3\n",
      "The story takes place in a village called Sylvania, and centers on Chocolate Usagi-chan, Kurumi Risu-kun, and their friends and families.                                                                                                                                                                                                                                                                                                                                                                                                                                                                                                                                                                                                                                                                                                                                                                                                                                                                                                                                                                                                                      3\n",
      "The story takes place in the beautiful Tibet. In order to protect the Tibetan antelope on the Qinghai-Tibet Plateau, little Zhuoma and her companions fight against the female evil spirited spider, the green gecko, the red bat and the bad guys.                                                                                                                                                                                                                                                                                                                                                                                                                                                                                                                                                                                                                                                                                                                                                                                                                                                                                                            2\n",
      "The story will depict Joe Shimamura and the other cyborgs' struggle with the Bresudo, a group of people who possess superhuman powers and intellect, and have manipulated human history since ancient times. Their goals are unknown, and they cast a dark shadow over the world. Though few people believe in the Bresdo's existence, one American journalist named Lucie Davenport heads to Texas to contact a certain family, and she meets the cyborgs. The cyborgs themselves have been freed from their duty of protecting humanity ever since the establishment of the UN Guardian troops, and they now live quiet lives of peace.                                                                                                                                                                                                                                                                                                                                                                                                                                                                                                                      3\n",
      "When you look up at the sky, what do you see? A blue sky? Freedom? A hopeful future? The people of Tokyo see none of these. Instead, an ominous alien mothership looms overhead, engulfing the city skyscape.\\n\\nThree years ago, they came. The arrival of the \"Invaders\" sparked the greatest war humanity had ever faced—one that threatened to end the world. The Japanese government scrambled to fight the Invaders. Weapons were mass-produced, sparking controversy and pacifist movements.\\n\\nThat day, everything changed. And yet, nothing has changed. Kadode Koyama and Ouran Nakagawa live their final days like they always have: going to school, playing with friends, and doing what any carefree high school girl would do.\\n\\nAs they grow up, they come to learn what it truly means to be an adult, in a world where adults seem to be demons who only deceive and destroy. They come to learn the real threat to humanity is not the Invaders, but humanity itself.                                                                                                                                                                     2\n",
      "While looking for the ledgendary Mapman, the last surviving member of the Nomad Star tribe, Lipumira finds him in Tokyo. His name is Gen Tokishima and he is the only one able to get one part of the starmap hidden within the Earth. After retrieving the piece, Gen must make a decision to follow Lipumira in her foolhardy search to find the remaining pieces of the starmap or stay on Earth. He makes his decision, only to find his girlfriend has beaten him to the spaceship as she wants to come as well. Unfortunately, as Gen learns the secret of the starmap, Lipumira's sisters have plans to stop her and will stop her at any cost.                                                                                                                                                                                                                                                                                                                                                                                                                                                                                                         2\n",
      "With help from a 102-year-old goblin dwelling beneath their haunted apartment building, two siblings deal with ghosts and take on spooky mysteries.                                                                                                                                                                                                                                                                                                                                                                                                                                                                                                                                                                                                                                                                                                                                                                                                                                                                                                                                                                                                            2\n",
      "Name: title, dtype: int64\n"
     ]
    }
   ],
   "source": [
    "import pandas as pd\n",
    "\n",
    "df = pd.read_csv(\"anime_dataset_cleaned.csv\")\n",
    "\n",
    "# Trim whitespace\n",
    "df['synopsis'] = df['synopsis'].str.strip()\n",
    "\n",
    "# Check for empty strings\n",
    "empty_synopsis = df[df['synopsis'] == '']\n",
    "print(\"Rows with empty synopses:\", empty_synopsis)\n",
    "\n",
    "# Find rows where synopses are duplicated but titles are different\n",
    "duplicated_synopses = df[df.duplicated(subset='synopsis', keep=False)]\n",
    "print(\"Number of duplicated synopses:\", len(duplicated_synopses))\n",
    "non_matching = duplicated_synopses.groupby('synopsis')['title'].nunique()\n",
    "print(non_matching[non_matching > 1])"
   ]
  },
  {
   "cell_type": "code",
   "execution_count": 48,
   "metadata": {},
   "outputs": [
    {
     "name": "stdout",
     "output_type": "stream",
     "text": [
      "      mal_id                                              title                                           synopsis                                   combined\n",
      "3560   59730  A-Rank Party wo Ridatsu shita Ore wa, Moto Osh...  \"I can't do this anymore!\" Yuke Feldio, a red ...                 Action, Adventure, Fantasy\n",
      "3561   59730  A-Rank Party wo Ridatsu shita Ore wa, Moto Osh...  \"I can't do this anymore!\" Yuke Feldio, a red ...                 Action, Adventure, Fantasy\n",
      "7953   60168                    Watashi wo Tabetai, Hitodenashi  \"I've come to eat you,\" so softly utters the m...                        Drama, Supernatural\n",
      "7954   60168                    Watashi wo Tabetai, Hitodenashi  \"I've come to eat you,\" so softly utters the m...                        Drama, Supernatural\n",
      "7009   59572                        Chogokin Gundam★Hello Kitty  \"Mobile Suit Gundam\" and \"Hello Kitty\" are \"su...           Science Fiction, Fighting Robots\n",
      "...      ...                                                ...                                                ...                                        ...\n",
      "7068    3183           MAPS: Densetsu no Samayoeru Seijin-tachi  While looking for the ledgendary Mapman, the l...  Action, Adventure, Drama, Science Fiction\n",
      "3511   38923                  Sinbi Apartment: Ghost Ball Bimil  With help from a 102-year-old goblin dwelling ...                      Mystery, Supernatural\n",
      "5342   40090          Sinbi Apartment: Ghost Ball X-ui Tansaeng  With help from a 102-year-old goblin dwelling ...                               Supernatural\n",
      "8000   59711                      Shibou Yuugi de Meshi wo Kuu.  Yuki wakes up to find herself in an unfamiliar...                                     Action\n",
      "7999   59711                      Shibou Yuugi de Meshi wo Kuu.  Yuki wakes up to find herself in an unfamiliar...                                     Action\n",
      "\n",
      "[198 rows x 4 columns]\n"
     ]
    }
   ],
   "source": [
    "df['synopsis'] = df['synopsis'].str.strip()\n",
    "\n",
    "duplicated_synopses = df[df.duplicated(subset='synopsis', keep=False)]\n",
    "print(duplicated_synopses.sort_values(by='synopsis'))\n"
   ]
  },
  {
   "cell_type": "code",
   "execution_count": 49,
   "metadata": {},
   "outputs": [
    {
     "name": "stdout",
     "output_type": "stream",
     "text": [
      "New number of rows: 10779\n",
      "Number of unique titles: 10779\n",
      "Number of unique synopses: 10708\n"
     ]
    }
   ],
   "source": [
    "df['synopsis'] = df['synopsis'].str.strip()\n",
    "\n",
    "df = df.drop_duplicates()\n",
    "\n",
    "print(f\"New number of rows: {len(df)}\")\n",
    "print(f\"Number of unique titles: {df['title'].nunique()}\")\n",
    "print(f\"Number of unique synopses: {df['synopsis'].nunique()}\")"
   ]
  },
  {
   "cell_type": "code",
   "execution_count": 50,
   "metadata": {},
   "outputs": [
    {
     "name": "stdout",
     "output_type": "stream",
     "text": [
      "      mal_id                                              title                                           synopsis                                    combined\n",
      "5856    6965  Kaiketsu Zorori: Mahoutsukai no Deshi/Dai Kaiz...  \"Unbelievable\" Zorori is a prankster fox deter...                           Adventure, Comedy\n",
      "4795    3659  Majime ni Fumajime Kaiketsu Zorori: Nazo no Ot...  \"Unbelievable\" Zorori is a prankster fox deter...                           Adventure, Comedy\n",
      "8679   33753                          Tian Xin Ge Ge 2nd Season  A Chinese prince meets a regular civilian duri...                          Comedy, Historical\n",
      "4847   33739                                     Tian Xin Ge Ge  A Chinese prince meets a regular civilian duri...                          Comedy, Historical\n",
      "8416   44863                                   Mohuan Xian Zong  A baby princess named Ocean is sent away from ...                          Adventure, Fantasy\n",
      "...      ...                                                ...                                                ...                                         ...\n",
      "590    58883        Dead Dead Demons Dededede Destruction (ONA)  When you look up at the sky, what do you see? ...              Drama, Science Fiction, School\n",
      "6631    1620                                               Maps  While looking for the ledgendary Mapman, the l...  Action, Adventure, Comedy, Science Fiction\n",
      "7068    3183           MAPS: Densetsu no Samayoeru Seijin-tachi  While looking for the ledgendary Mapman, the l...   Action, Adventure, Drama, Science Fiction\n",
      "3511   38923                  Sinbi Apartment: Ghost Ball Bimil  With help from a 102-year-old goblin dwelling ...                       Mystery, Supernatural\n",
      "5342   40090          Sinbi Apartment: Ghost Ball X-ui Tansaeng  With help from a 102-year-old goblin dwelling ...                                Supernatural\n",
      "\n",
      "[132 rows x 4 columns]\n"
     ]
    }
   ],
   "source": [
    "df['synopsis'] = df['synopsis'].str.strip()\n",
    "df = df.drop_duplicates()\n",
    "\n",
    "duplicated_synopses = df[df.duplicated(subset='synopsis', keep=False)]\n",
    "print(duplicated_synopses.sort_values(by='synopsis'))"
   ]
  },
  {
   "cell_type": "code",
   "execution_count": 51,
   "metadata": {},
   "outputs": [
    {
     "name": "stdout",
     "output_type": "stream",
     "text": [
      "New number of rows: 10708\n",
      "Number of unique titles: 10708\n",
      "Number of unique synopses: 10708\n",
      "Number of remaining duplicated synopses: 0\n"
     ]
    }
   ],
   "source": [
    "df['synopsis'] = df['synopsis'].str.strip()\n",
    "\n",
    "# Remove duplicate synopses, keeping the first occurrence\n",
    "df = df.drop_duplicates(subset='synopsis', keep='first')\n",
    "\n",
    "print(f\"New number of rows: {len(df)}\")\n",
    "print(f\"Number of unique titles: {df['title'].nunique()}\")\n",
    "print(f\"Number of unique synopses: {df['synopsis'].nunique()}\")\n",
    "\n",
    "# Verify that the duplicates are gone\n",
    "duplicated_synopses = df[df.duplicated(subset='synopsis', keep=False)]\n",
    "print(f\"Number of remaining duplicated synopses: {len(duplicated_synopses)}\")"
   ]
  },
  {
   "cell_type": "code",
   "execution_count": 52,
   "metadata": {},
   "outputs": [
    {
     "name": "stdout",
     "output_type": "stream",
     "text": [
      "Attempting to load CSV file: anime_dataset_cleaned.csv\n",
      "\n",
      "--- Successfully loaded CSV file ---\n",
      "\n",
      "--- 1. Column Names ---\n",
      "['mal_id', 'title', 'synopsis', 'combined']\n",
      "\n",
      ">>> Please identify which of the above columns is your TARGET variable <<<\n",
      "\n",
      "--- 2. Data Types ---\n",
      "mal_id       int64\n",
      "title       object\n",
      "synopsis    object\n",
      "combined    object\n",
      "dtype: object\n",
      "\n",
      "\n",
      "--- 3. First 10 Rows (Potential Anonymization Needed!) ---\n",
      ">>> IMPORTANT: Review this section for sensitive data before sharing! <<<\n",
      "   mal_id                                       title                                           synopsis                                           combined\n",
      "0   52991                           Sousou no Frieren  During their decade-long quest to defeat the D...                          Adventure, Drama, Fantasy\n",
      "1    5114            Fullmetal Alchemist: Brotherhood  After a horrific alchemy experiment goes wrong...                  Action, Adventure, Drama, Fantasy\n",
      "2   39486                          Gintama: The Final  Two years have passed following the Tendoshuu'...  Action, Comedy, Drama, Science Fiction, Histor...\n",
      "3   11061                      Hunter x Hunter (2011)  Hunters devote themselves to accomplishing haz...                         Action, Adventure, Fantasy\n",
      "4    9969                                    Gintama'  After a one-year hiatus, Shinpachi Shimura ret...        Action, Comedy, Science Fiction, Historical\n",
      "5   15417                         Gintama': Enchousen  While Gintoki Sakata was away, the Yorozuya fo...        Action, Comedy, Science Fiction, Historical\n",
      "6     820                        Ginga Eiyuu Densetsu  The 150-year-long stalemate between the two in...                             Drama, Science Fiction\n",
      "7   41467                   Bleach: Sennen Kessen-hen  Substitute Soul Reaper Ichigo Kurosaki spends ...                    Action, Adventure, Supernatural\n",
      "8   43608  Kaguya-sama wa Kokurasetai: Ultra Romantic  The elite members of Shuchiin Academy's studen...                            Comedy, Romance, School\n",
      "9   34096                                    Gintama.  After joining the resistance against the bakuf...        Action, Comedy, Science Fiction, Historical\n",
      "\n",
      "\n",
      "--- 4. Dataset Size ---\n",
      "Number of Rows:    10813\n",
      "Number of Columns: 4\n",
      "\n",
      "\n",
      "--- 5. Missing Value Counts ---\n",
      "No missing values found.\n",
      "\n",
      "\n",
      "--- 6. Unique Value Counts for Potential Categorical Columns ---\n",
      "(Includes 'object' dtype and numerical columns with <= 20 unique values)\n",
      "\n",
      "Column Name                    | Num Unique Values    | Unique Values (if <= 15)\n",
      "--------------------------------------------------------------------------------\n",
      "title                          | 10779                | \n",
      "synopsis                       | 10708                | \n",
      "combined                       | 840                  | \n",
      "\n",
      "--- End of Analysis ---\n"
     ]
    }
   ],
   "source": [
    "import pandas as pd\n",
    "\n",
    "\n",
    "file_path = 'anime_dataset_cleaned.csv'\n",
    "\n",
    "\n",
    "# Set display options for better output\n",
    "pd.set_option('display.max_rows', 100)\n",
    "pd.set_option('display.max_columns', 50)\n",
    "pd.set_option('display.width', 1000)\n",
    "\n",
    "print(f\"Attempting to load CSV file: {file_path}\\n\")\n",
    "\n",
    "try:\n",
    "    # Load the dataset\n",
    "    df = pd.read_csv(file_path)\n",
    "\n",
    "    print(\"--- Successfully loaded CSV file ---\\n\")\n",
    "\n",
    "    # 1. Column Names (Features)\n",
    "    print(\"--- 1. Column Names ---\")\n",
    "    column_names = df.columns.tolist()\n",
    "    print(column_names)\n",
    "    print(\"\\n>>> Please identify which of the above columns is your TARGET variable <<<\\n\")\n",
    "\n",
    "    # 2. Data Types of Each Column\n",
    "    print(\"--- 2. Data Types ---\")\n",
    "    print(df.dtypes)\n",
    "    print(\"\\n\")\n",
    "\n",
    "    # 3. Data Content Snippet (First 10 Rows)\n",
    "    print(\"--- 3. First 10 Rows (Potential Anonymization Needed!) ---\")\n",
    "    print(\">>> IMPORTANT: Review this section for sensitive data before sharing! <<<\")\n",
    "    print(df.head(10))\n",
    "    print(\"\\n\")\n",
    "\n",
    "    # 4. Dataset Size (Shape)\n",
    "    print(\"--- 4. Dataset Size ---\")\n",
    "    print(f\"Number of Rows:    {df.shape[0]}\")\n",
    "    print(f\"Number of Columns: {df.shape[1]}\")\n",
    "    print(\"\\n\")\n",
    "\n",
    "    # 5. Missing Values\n",
    "    print(\"--- 5. Missing Value Counts ---\")\n",
    "    missing_counts = df.isnull().sum()\n",
    "    missing_counts = missing_counts[missing_counts > 0] # Filter only columns with missing values\n",
    "    if missing_counts.empty:\n",
    "        print(\"No missing values found.\")\n",
    "    else:\n",
    "        print(\"Columns with missing values and their counts:\")\n",
    "        print(missing_counts)\n",
    "    print(\"\\n\")\n",
    "\n",
    "    # 6. Categorical Feature Details (Heuristic based on dtype and unique values)\n",
    "    print(\"--- 6. Unique Value Counts for Potential Categorical Columns ---\")\n",
    "    print(\"(Includes 'object' dtype and numerical columns with <= 20 unique values)\\n\")\n",
    "    potential_categorical_cols = []\n",
    "    for col in df.columns:\n",
    "        if df[col].dtype == 'object' or df[col].dtype.name == 'category':\n",
    "            potential_categorical_cols.append(col)\n",
    "        elif pd.api.types.is_numeric_dtype(df[col].dtype) and df[col].nunique() <= 20:\n",
    "             potential_categorical_cols.append(col)\n",
    "             print(f\"(Note: Numerical column '{col}' included as potentially categorical due to low unique count)\")\n",
    "\n",
    "\n",
    "    if not potential_categorical_cols:\n",
    "        print(\"No columns automatically identified as likely categorical (dtype 'object' or low-unique numerical).\")\n",
    "    else:\n",
    "        print(f\"{'Column Name':<30} | {'Num Unique Values':<20} | {'Unique Values (if <= 15)'}\")\n",
    "        print(\"-\" * 80)\n",
    "        for col in potential_categorical_cols:\n",
    "            num_unique = df[col].nunique()\n",
    "            unique_values_str = \"\"\n",
    "            if num_unique <= 15:\n",
    "                # Convert to list and handle potential NaN values for display\n",
    "                unique_values = [str(item) for item in df[col].unique().tolist()]\n",
    "                unique_values_str = \", \".join(unique_values)\n",
    "\n",
    "            print(f\"{col:<30} | {num_unique:<20} | {unique_values_str}\")\n",
    "\n",
    "    print(\"\\n--- End of Analysis ---\")\n",
    "\n",
    "except FileNotFoundError:\n",
    "    print(f\"Error: The file '{file_path}' was not found.\")\n",
    "    print(\"Please check the file path and name, then try again.\")\n",
    "except Exception as e:\n",
    "    print(f\"An unexpected error occurred while processing the file: {e}\")\n",
    "    print(\"There might be an issue with the file format or content.\")"
   ]
  },
  {
   "cell_type": "code",
   "execution_count": 53,
   "metadata": {},
   "outputs": [
    {
     "name": "stdout",
     "output_type": "stream",
     "text": [
      "Duplicates removed and file saved as 'anime_dataset_cleaned.csv'\n"
     ]
    }
   ],
   "source": [
    "df.to_csv(\"anime_dataset_cleaned.csv\", index=False)\n",
    "print(\"Duplicates removed and file saved as 'anime_dataset_cleaned.csv'\")"
   ]
  }
 ],
 "metadata": {
  "kernelspec": {
   "display_name": "Python 3",
   "language": "python",
   "name": "python3"
  },
  "language_info": {
   "codemirror_mode": {
    "name": "ipython",
    "version": 3
   },
   "file_extension": ".py",
   "mimetype": "text/x-python",
   "name": "python",
   "nbconvert_exporter": "python",
   "pygments_lexer": "ipython3",
   "version": "3.12.4"
  }
 },
 "nbformat": 4,
 "nbformat_minor": 2
}
